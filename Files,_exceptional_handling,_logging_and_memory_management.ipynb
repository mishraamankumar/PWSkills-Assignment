{
  "nbformat": 4,
  "nbformat_minor": 0,
  "metadata": {
    "colab": {
      "provenance": [],
      "toc_visible": true
    },
    "kernelspec": {
      "name": "python3",
      "display_name": "Python 3"
    },
    "language_info": {
      "name": "python"
    }
  },
  "cells": [
    {
      "cell_type": "code",
      "execution_count": null,
      "metadata": {
        "id": "L8Hh-1GUJmqO"
      },
      "outputs": [],
      "source": []
    },
    {
      "cell_type": "markdown",
      "source": [
        "#assignment\n",
        "#Files, exceptional handling,\n",
        "#logging and\n",
        "#memory management"
      ],
      "metadata": {
        "id": "bk0J_rnuJuWc"
      }
    },
    {
      "cell_type": "markdown",
      "source": [
        "# Theory Solutions"
      ],
      "metadata": {
        "id": "VYxV9KYaTgm8"
      }
    },
    {
      "cell_type": "markdown",
      "source": [
        "Interpreted Languages\n",
        "- Definition: Interpreted languages are programming languages that do not require compilation before execution. Instead, the code is interpreted line by line by an interpreter at runtime.\n",
        "- Examples: Python, JavaScript, Ruby, PHP\n",
        "- Characteristics:\n",
        "    - No compilation step\n",
        "    - Code is executed line by line\n",
        "    - Errors are detected at runtime\n",
        "    - Slower execution speed compared to compiled languages\n",
        "\n",
        "Compiled Languages\n",
        "- Definition: Compiled languages are programming languages that require compilation before execution. The code is compiled into machine code, which can be executed directly by the computer's processor.\n",
        "- Examples: C, C++, Java, Fortran\n",
        "- Characteristics:\n",
        "    - Compilation step required\n",
        "    - Code is converted to machine code\n",
        "    - Errors are detected at compile-time\n",
        "    - Faster execution speed compared to interpreted languages"
      ],
      "metadata": {
        "id": "_5U4z128NCtq"
      }
    },
    {
      "cell_type": "markdown",
      "source": [
        "Exception Handling in Python\n",
        "Exception handling is a mechanism in Python that allows you to handle runtime errors or exceptions that occur during the execution of your code.\n",
        "\n",
        "Try-Except Block\n",
        "The basic syntax for exception handling in Python is the try-except block:\n",
        "\n",
        "\n",
        "try:\n",
        "    # Code that might raise an exception\n",
        "except ExceptionType:\n",
        "    # Code to handle the exception\n",
        "\n",
        "\n",
        "Types of Exceptions\n",
        "Python has several built-in exception types, including:\n",
        "\n",
        "- SyntaxError: Raised when there's a syntax error in the code.\n",
        "- TypeError: Raised when a variable is not of the expected type.\n",
        "- ValueError: Raised when a function or operation receives an argument with an incorrect value.\n",
        "- IndexError: Raised when a sequence (like a list or string) is indexed out of range.\n",
        "- KeyError: Raised when a mapping (like a dictionary) is indexed with a key that doesn't exist.\n",
        "\n",
        "Raising Exceptions\n",
        "You can raise exceptions using the raise keyword:\n",
        "\n",
        "\n",
        "raise ExceptionType(\"Error message\")\n",
        "\n",
        "\n",
        "Finally Block\n",
        "The finally block is optional and is executed regardless of whether an exception was raised:\n",
        "\n",
        "\n",
        "try:\n",
        "    # Code that might raise an exception\n",
        "except ExceptionType:\n",
        "    # Code to handle the exception\n",
        "finally:\n",
        "    # Code to be executed regardless of exceptions"
      ],
      "metadata": {
        "id": "3rnsRyCRND5y"
      }
    },
    {
      "cell_type": "markdown",
      "source": [
        "\n",
        "Purpose of the Finally Block\n",
        "The finally block in exception handling serves several purposes:\n",
        "\n",
        "1. Cleanup: The finally block is used to perform cleanup actions, such as closing files, releasing system resources, or restoring the state of an object.\n",
        "2. Guaranteed Execution: The finally block is executed regardless of whether an exception was thrown or caught in the try block.\n",
        "3. Resource Deallocation: The finally block is used to deallocate resources, such as memory, file handles, or network connections.\n",
        "4. Logging and Auditing: The finally block can be used to log or audit the outcome of the try block, regardless of whether an exception occurred.\n",
        "\n",
        "Best Practices\n",
        "When using the finally block:\n",
        "\n",
        "1. Keep it concise: Limit the code in the finally block to only the necessary cleanup actions.\n",
        "2. Avoid exceptions: Avoid throwing exceptions from within the finally block, as this can lead to unexpected behavior.\n",
        "3. Use it for cleanup: Reserve the finally block for cleanup actions, rather than using it for other purposes."
      ],
      "metadata": {
        "id": "Pzw8bpexNEL5"
      }
    },
    {
      "cell_type": "markdown",
      "source": [
        "\n",
        "Logging in Python\n",
        "Logging is the process of recording events that occur during the execution of a program. In Python, logging is a built-in module that allows you to record events with different levels of severity.\n",
        "\n",
        "Logging Levels\n",
        "Python's logging module provides the following levels:\n",
        "\n",
        "1. DEBUG: Detailed information for debugging purposes.\n",
        "2. INFO: Confirmation that things are working as expected.\n",
        "3. WARNING: An indication that something unexpected happened, but the program can continue running.\n",
        "4. ERROR: Due to a more serious problem, the program cannot continue running.\n",
        "5. CRITICAL: A serious error, indicating that the program itself may be unable to continue running.\n",
        "\n",
        "Logging Configuration\n",
        "You can configure logging in Python using the following methods:\n",
        "\n",
        "1. Basic Configuration: Use the logging.basicConfig() function to set up basic logging configuration.\n",
        "2. Logger Objects: Create a logger object using the logging.getLogger() function and configure it as needed.\n",
        "\n",
        "Logging Messages\n",
        "You can log messages using the following methods:\n",
        "\n",
        "1. Logger Methods: Use the logger object's methods, such as logger.debug(), logger.info(), logger.warning(), logger.error(), and logger.critical().\n",
        "2. Logging Format: Use the logging.Formatter class to customize the format of log messages."
      ],
      "metadata": {
        "id": "jaTjuw-SNEce"
      }
    },
    {
      "cell_type": "markdown",
      "source": [
        "*del Method in Python*\n",
        "The __del__ method in Python is a special method that is automatically called when an object is about to be destroyed. This method is also known as a destructor.\n",
        "\n",
        "Purpose\n",
        "The __del__ method serves several purposes:\n",
        "\n",
        "1. Cleanup: Release system resources, such as file handles, network connections, or memory.\n",
        "2. Finalization: Perform final actions before an object is destroyed.\n",
        "\n",
        "When is *del Called?*\n",
        "The __del__ method is called in the following situations:\n",
        "\n",
        "1. Object Deletion: When an object is deleted using the del statement.\n",
        "2. Object Goes Out of Scope: When an object goes out of scope and is no longer referenced.\n",
        "3. Program Termination: When the program terminates.\n",
        "\n",
        "Example\n",
        "Here's an example of using the __del__ method:\n",
        "\n",
        "\n",
        "class MyClass:\n",
        "    def __init__(self):\n",
        "        print(\"Object created\")\n",
        "\n",
        "    def __del__(self):\n",
        "        print(\"Object destroyed\")\n",
        "\n",
        "obj = MyClass()\n",
        "del obj"
      ],
      "metadata": {
        "id": "iOa-epenNEo1"
      }
    },
    {
      "cell_type": "markdown",
      "source": [
        "Import vs From...Import in Python\n",
        "In Python, import and from...import are two different ways to import modules or functions.\n",
        "\n",
        "Import Statement\n",
        "The import statement imports an entire module:\n",
        "\n",
        "\n",
        "import math\n",
        "\n",
        "\n",
        "- Usage: Access module functions using the module name, e.g., math.sin().\n",
        "- Advantages:\n",
        "    - Avoids namespace pollution.\n",
        "    - Clearly indicates the module origin.\n",
        "- Disadvantages:\n",
        "    - Verbose, as you need to use the module name.\n"
      ],
      "metadata": {
        "id": "N6NhyEXNNEzL"
      }
    },
    {
      "cell_type": "markdown",
      "source": [
        "Handling Multiple Exceptions in Python\n",
        "In Python, you can handle multiple exceptions using the following methods:\n",
        "\n",
        "1. Separate Except Blocks\n",
        "Use separate except blocks for each exception type:\n",
        "\n",
        "\n",
        "try:\n",
        "    # Code that might raise exceptions\n",
        "except ValueError:\n",
        "    # Handle ValueError\n",
        "except TypeError:\n",
        "    # Handle TypeError\n",
        "except Exception as e:\n",
        "    # Handle any other exception\n",
        "    print(f\"An error occurred: {e}\")\n",
        "\n",
        "\n",
        "2. Tuple of Exception Types\n",
        "Use a tuple to specify multiple exception types in a single except block:\n",
        "\n",
        "\n",
        "try:\n",
        "    # Code that might raise exceptions\n",
        "except (ValueError, TypeError):\n",
        "    # Handle both ValueError and TypeError\n",
        "\n",
        "\n",
        "3. Base Exception Class\n",
        "Use the base Exception class to catch all exceptions:\n",
        "\n",
        "\n",
        "try:\n",
        "    # Code that might raise exceptions\n",
        "except Exception as e:\n",
        "    # Handle any exception\n",
        "    print(f\"An error occurred: {e}\")\n",
        "\n"
      ],
      "metadata": {
        "id": "VI36TxmyNE6-"
      }
    },
    {
      "cell_type": "markdown",
      "source": [
        "\n",
        "With Statement for File Handling in Python\n",
        "The with statement in Python is used for exception handling and automatic resource management when working with files.\n",
        "\n",
        "Benefits\n",
        "Using the with statement for file handling provides several benefits:\n",
        "\n",
        "1. Automatic File Closure: The file is automatically closed when you're done with it, regardless of whether an exception is thrown or not.\n",
        "2. Exception Handling: The with statement ensures that the file is properly closed even if an exception occurs while working with the file.\n",
        "3. Improved Readability: The code is more readable, as the file handling logic is encapsulated within the with block.\n",
        "\n",
        "Syntax\n",
        "The basic syntax for using the with statement with files is:\n",
        "\n",
        "\n",
        "with open('file_name.txt', 'mode') as file_variable:\n",
        "    # File handling code here\n",
        "\n",
        "\n",
        "Example\n",
        "Here's an example of using the with statement to read a file:\n",
        "\n",
        "\n",
        "with open('example.txt', 'r') as file:\n",
        "    contents = file.read()\n",
        "    print(contents)\n",
        "\n"
      ],
      "metadata": {
        "id": "nSwxvTrCNFEH"
      }
    },
    {
      "cell_type": "markdown",
      "source": [
        "\n",
        "Multithreading vs Multiprocessing\n",
        "Multithreading and multiprocessing are two techniques used to achieve concurrency in programming.\n",
        "\n",
        "Multithreading\n",
        "Multithreading is a technique where multiple threads share the same memory space and resources:\n",
        "\n",
        "- Threads: Lightweight processes that share the same memory space.\n",
        "- Advantages:\n",
        "    - Faster context switching.\n",
        "    - Shared memory space.\n",
        "    - Lightweight.\n",
        "- Disadvantages:\n",
        "    - Limited control over threads.\n",
        "    - Synchronization issues.\n",
        "\n",
        "Multiprocessing\n",
        "Multiprocessing is a technique where multiple processes run concurrently, each with its own memory space:\n",
        "\n",
        "- Processes: Heavyweight threads that have their own memory space.\n",
        "- Advantages:\n",
        "    - Better control over processes.\n",
        "    - No synchronization issues.\n",
        "    - Can utilize multiple CPU cores.\n",
        "- Disadvantages:\n",
        "    - Slower context switching.\n",
        "    - Separate memory space for each process.\n",
        "\n",
        "Key Differences\n",
        "- Memory Space: Multithreading shares the same memory space, while multiprocessing has separate memory spaces for each process.\n",
        "- Context Switching: Multithreading has faster context switching, while multiprocessing has slower context switching.\n",
        "- Control and Synchronization: Multiprocessing provides better control over processes and avoids synchronization issues, while multithreading has limited control and synchronization issues.\n"
      ],
      "metadata": {
        "id": "Y_MuCbXxNFMI"
      }
    },
    {
      "cell_type": "markdown",
      "source": [
        "Advantages of Logging\n",
        "1. Debugging: Logging helps identify and diagnose problems, making it easier to debug the program.\n",
        "2. Error Tracking: Logging allows you to track errors and exceptions, providing valuable insights into the program's behavior.\n",
        "3. Performance Monitoring: Logging can help monitor the program's performance, identifying bottlenecks and areas for optimization.\n",
        "4. Security Auditing: Logging provides a record of security-related events, helping to detect and respond to potential security threats.\n",
        "5. Compliance: Logging can help meet regulatory requirements, such as HIPAA or PCI-DSS, by providing a record of system activity.\n",
        "6. Troubleshooting: Logging simplifies the troubleshooting process by providing a clear understanding of what happened and when.\n",
        "7. Quality Assurance: Logging helps ensure quality by providing a record of testing and validation.\n",
        "8. Auditing: Logging provides a record of changes, deletions, and other important events, helping to maintain data integrity."
      ],
      "metadata": {
        "id": "BSXuGtaNNFYg"
      }
    },
    {
      "cell_type": "markdown",
      "source": [
        "Memory Management in Python\n",
        "Memory management in Python is a process that manages the allocation and deallocation of memory for Python objects.\n",
        "\n",
        "Memory Allocation\n",
        "Python uses a private heap to manage memory allocation. When you create an object, Python allocates memory for that object on the private heap.\n",
        "\n",
        "Memory Deallocation\n",
        "Python uses a garbage collector to automatically deallocate memory when an object is no longer needed. The garbage collector works by:\n",
        "\n",
        "1. Reference Counting: Python keeps track of the number of references to an object. When the reference count reaches zero, the object is deallocated.\n",
        "2. Garbage Collection Cycles: Periodically, Python performs a garbage collection cycle, which identifies and deallocates objects that are no longer reachable.\n",
        "\n",
        "Weak References\n",
        "Python also provides weak references, which allow you to create references to objects without increasing their reference count. This is useful for avoiding circular references.\n",
        "\n",
        "Manual Memory Management\n",
        "While Python's garbage collector automatically manages memory, there are cases where you may need to manually manage memory, such as:\n",
        "\n",
        "1. Using __del__ Method: You can define a __del__ method to perform cleanup actions when an object is deallocated.\n",
        "2. Using weakref Module: You can use the weakref module to create weak references to objects."
      ],
      "metadata": {
        "id": "pdYnDRGHNFhH"
      }
    },
    {
      "cell_type": "markdown",
      "source": [
        "\n",
        "Basic Steps in Exception Handling\n",
        "1. Try Block: The code that might potentially raise an exception is placed within a try block.\n",
        "2. Except Block: The code that handles the exception is placed within an except block.\n",
        "3. Exception Identification: The type of exception that is being handled is specified in the except block.\n",
        "4. Error Handling: The code within the except block is executed when an exception occurs, allowing you to handle the error and provide a meaningful response.\n",
        "\n",
        "Additional Steps for Robust Exception Handling\n",
        "1. Raising Exceptions: Use the raise statement to explicitly raise an exception when a certain condition occurs.\n",
        "2. Exception Arguments: Provide additional information about the exception by passing arguments to the exception object.\n",
        "3. Finally Block: Use a finally block to execute code regardless of whether an exception occurred, allowing for cleanup and resource release.\n",
        "\n",
        "Best Practices for Exception Handling\n",
        "1. Handle Specific Exceptions: Handle specific exceptions instead of catching the general Exception class.\n",
        "2. Keep Except Blocks Short: Keep the code within except blocks short and focused on handling the exception.\n",
        "3. Avoid Bare Except Clauses: Avoid using bare except clauses, as they can catch system-exiting exceptions and make debugging more difficult."
      ],
      "metadata": {
        "id": "lnKFgfXONFri"
      }
    },
    {
      "cell_type": "markdown",
      "source": [
        "Importance of Memory Management in Python\n",
        "1. Prevents Memory Leaks: Effective memory management prevents memory leaks, which can cause your program to consume increasing amounts of memory, leading to performance issues and crashes.\n",
        "2. Ensures Efficient Resource Use: Proper memory management ensures that memory is allocated and deallocated efficiently, preventing waste and optimizing system resource usage.\n",
        "3. Reduces Risk of Crashes: Memory management helps prevent crashes caused by memory-related issues, such as segmentation faults or out-of-memory errors.\n",
        "4. Improves Performance: Efficient memory management can significantly improve your program's performance by reducing the time spent on memory allocation and deallocation.\n",
        "5. Supports Scalability: Proper memory management is essential for building scalable applications, as it ensures that memory usage remains under control even when handling large amounts of data.\n",
        "\n",
        "Challenges of Memory Management in Python\n",
        "1. Dynamic Memory Allocation: Python's dynamic memory allocation can lead to memory fragmentation, making it challenging to manage memory efficiently.\n",
        "2. Object Lifetimes: Python's object-oriented nature means that objects have lifetimes, and managing these lifetimes is crucial for effective memory management.\n",
        "3. Reference Cycles: Reference cycles can prevent objects from being garbage collected, leading to memory leaks."
      ],
      "metadata": {
        "id": "VDLLNmsYNF2M"
      }
    },
    {
      "cell_type": "markdown",
      "source": [
        "Role of Try and Except in Exception Handling\n",
        "Try Block\n",
        "The try block is used to enclose the code that might potentially raise an exception.\n",
        "\n",
        "- Purpose: The try block allows you to specify the code that needs to be monitored for exceptions.\n",
        "- Usage: Place the code that might raise an exception within the try block.\n",
        "\n",
        "Except Block\n",
        "The except block is used to handle the exception raised in the try block.\n",
        "\n",
        "- Purpose: The except block allows you to specify the code that will be executed when an exception is raised.\n",
        "- Usage: Place the code that will handle the exception within the except block.\n",
        "\n",
        "How Try and Except Work Together\n",
        "1. Try Block Execution: The code within the try block is executed.\n",
        "2. Exception Raised: If an exception is raised within the try block, the execution of the try block is stopped.\n",
        "3. Except Block Execution: The code within the corresponding except block is executed to handle the exception.\n",
        "4. Exception Handled: Once the exception is handled, the execution of the program continues."
      ],
      "metadata": {
        "id": "yV2flL8UNF-i"
      }
    },
    {
      "cell_type": "markdown",
      "source": [
        "Python's Garbage Collection System\n",
        "Python's garbage collection system is a mechanism that automatically manages memory and eliminates memory leaks.\n",
        "\n",
        "Reference Counting\n",
        "Python uses a reference counting algorithm to manage memory:\n",
        "\n",
        "1. Object Creation: When an object is created, its reference count is set to 1.\n",
        "2. Reference Increment: When a reference to the object is created, its reference count is incremented.\n",
        "3. Reference Decrement: When a reference to the object is deleted, its reference count is decremented.\n",
        "4. Object Deletion: When the reference count reaches 0, the object is deleted.\n",
        "\n",
        "Cycle Detection\n",
        "To handle reference cycles, Python uses a cycle detection algorithm:\n",
        "\n",
        "1. Garbage Collection Cycles: Periodically, Python performs a garbage collection cycle.\n",
        "2. Cycle Detection: During the cycle, Python detects objects that are part of a reference cycle.\n",
        "3. Cycle Breaking: Python breaks the reference cycle by deleting one of the objects.\n",
        "\n",
        "Generational Garbage Collection\n",
        "Python uses a generational garbage collection approach:\n",
        "\n",
        "1. Young Generation: Newly created objects are placed in the young generation.\n",
        "2. Old Generation: Objects that survive a garbage collection cycle are moved to the old generation.\n",
        "3. Garbage Collection Frequency: The young generation is collected more frequently than the old generation.\n",
        "\n",
        "Benefits of Python's Garbage Collection System\n",
        "1. Memory Safety: Python's garbage collection system ensures memory safety by eliminating memory leaks.\n",
        "2. Reduced Memory Fragmentation: The generational approach reduces memory fragmentation.\n",
        "3. Improved Performance: The garbage collection system improves performance by reducing the need for manual memory management.\n",
        "\n",
        "Best Practices for Working with Python's Garbage Collection System\n",
        "1. Use Weak References: Use weak references to avoid creating reference cycles.\n",
        "2. Avoid Circular References: Avoid creating circular references, which can prevent objects from being garbage collected.\n",
        "3. Use the gc Module: Use the gc module to manually control the garbage collection process."
      ],
      "metadata": {
        "id": "ofn37w-zNGIP"
      }
    },
    {
      "cell_type": "markdown",
      "source": [
        "Purpose of the Else Block in Exception Handling\n",
        "The else block in exception handling is used to specify code that should be executed when no exceptions are raised in the try block.\n",
        "\n",
        "Use Cases\n",
        "The else block is useful in the following scenarios:\n",
        "\n",
        "1. Code that Should Run Only When No Exceptions Occur: Use the else block to specify code that should run only when no exceptions occur.\n",
        "2. Providing a Default Action: Use the else block to provide a default action when no exceptions are raised.\n",
        "\n",
        "Example\n",
        "Here's an example of using an else block in exception handling:\n",
        "\n",
        "\n",
        "try:\n",
        "    file = open(\"example.txt\", \"r\")\n",
        "except FileNotFoundError:\n",
        "    print(\"File not found\")\n",
        "else:\n",
        "    contents = file.read()\n",
        "    print(contents)\n",
        "    file.close()"
      ],
      "metadata": {
        "id": "xPq7eq_nNGRv"
      }
    },
    {
      "cell_type": "markdown",
      "source": [
        "Common Logging Levels in Python\n",
        "Python's built-in logging module provides several logging levels, which are used to categorize log messages based on their severity.\n",
        "\n",
        "Logging Levels\n",
        "Here are the common logging levels in Python, listed in order of increasing severity:\n",
        "\n",
        "1. DEBUG: Detailed information for debugging purposes. (Level: 10)\n",
        "2. INFO: Confirmation that things are working as expected. (Level: 20)\n",
        "3. WARNING: An indication that something unexpected happened, but the program can continue running. (Level: 30)\n",
        "4. ERROR: Due to a more serious problem, the program cannot continue running. (Level: 40)\n",
        "5. CRITICAL: A serious error, indicating that the program itself may be unable to continue running. (Level: 50)\n",
        "\n",
        "Using Logging Levels\n",
        "To use these logging levels in your Python code, you can call the corresponding methods on a logger object:\n",
        "\n"
      ],
      "metadata": {
        "id": "ZcoR1RfkNGb2"
      }
    },
    {
      "cell_type": "markdown",
      "source": [
        "asyncio vs Multiprocessing in Python\n",
        "asyncio and multiprocessing are two different approaches to achieving concurrency in Python.\n",
        "\n",
        "asyncio\n",
        "asyncio is a library for writing single-threaded concurrent code using coroutines, multiplexing I/O access over sockets and other resources, and implementing network clients and servers.\n",
        "\n",
        "- Async/await syntax: asyncio uses the async/await syntax to define coroutines.\n",
        "- Single-threaded: asyncio runs in a single thread, using cooperative scheduling.\n",
        "- I/O-bound: asyncio is well-suited for I/O-bound tasks, such as network I/O or database queries.\n",
        "\n",
        "Multiprocessing\n",
        "multiprocessing is a library for spawning new Python processes and communicating between them.\n",
        "\n",
        "- Multiple processes: multiprocessing creates multiple processes, each with its own memory space.\n",
        "- CPU-bound: multiprocessing is well-suited for CPU-bound tasks, such as scientific computing or data processing.\n",
        "\n",
        "Key Differences\n",
        "1. Concurrency model: asyncio uses cooperative scheduling, while multiprocessing uses multiple processes.\n",
        "2. Thread safety: asyncio is thread-safe, while multiprocessing requires explicit synchronization between processes.\n",
        "3. Resource usage: asyncio uses fewer resources than multiprocessing, since it runs in a single thread.\n",
        "\n",
        "Choosing Between asyncio and Multiprocessing\n",
        "1. I/O-bound tasks: Use asyncio for I/O-bound tasks, such as network I/O or database queries.\n",
        "2. CPU-bound tasks: Use multiprocessing for CPU-bound tasks, such as scientific computing or data processing."
      ],
      "metadata": {
        "id": "OPIGGNtoNGmR"
      }
    },
    {
      "cell_type": "markdown",
      "source": [
        "Importance of Closing a File in Python\n",
        "Closing a file in Python is crucial to ensure that:\n",
        "\n",
        "1. System Resources are Released: Closing a file releases the system resources associated with the file, such as file descriptors, memory, and disk space.\n",
        "2. Data is Flushed: Closing a file ensures that any buffered data is written to the file, preventing data loss.\n",
        "3. File Locks are Released: Closing a file releases any file locks, allowing other processes to access the file.\n",
        "4. Prevents File Corruption: Closing a file helps prevent file corruption, which can occur if the file is not properly closed.\n",
        "\n",
        "Consequences of Not Closing a File\n",
        "Failing to close a file in Python can lead to:\n",
        "\n",
        "1. Resource Leaks: System resources, such as file descriptors and memory, can remain allocated, causing resource leaks.\n",
        "2. Data Loss: Buffered data may not be written to the file, resulting in data loss.\n",
        "3. File Corruption: Files may become corrupted if not properly closed.\n",
        "\n",
        "Best Practices for Closing Files\n",
        "1. Use the close() Method: Call the close() method to explicitly close the file.\n",
        "2. Use a with Statement: Use a with statement to ensure the file is automatically closed when you're done with it.\n"
      ],
      "metadata": {
        "id": "CadieNNHNGtQ"
      }
    },
    {
      "cell_type": "markdown",
      "source": [
        "Difference between file.read() and file.readline() in Python\n",
        "In Python, file.read() and file.readline() are two methods used to read data from a file.\n",
        "\n",
        "file.read()\n",
        "- Reads entire file: file.read() reads the entire contents of the file into a string.\n",
        "- Returns a string: The method returns a string containing the file's contents.\n",
        "- No newline character processing: file.read() does not process newline characters; it simply returns the entire file contents as a single string.\n",
        "\n",
        "file.readline()\n",
        "- Reads one line: file.readline() reads a single line from the file into a string.\n",
        "- Returns a string: The method returns a string containing the line read from the file.\n",
        "- Includes newline character: file.readline() includes the newline character (\\n) at the end of the returned string.\n",
        "\n",
        "Key Differences\n",
        "1. Amount of data read: file.read() reads the entire file, while file.readline() reads one line.\n",
        "2. Newline character handling: file.readline() includes the newline character, while file.read() does not.\n",
        "\n",
        "Choosing Between file.read() and file.readline()\n",
        "1. Reading entire files: Use file.read() when you need to read the entire contents of a file.\n",
        "2. Reading line-by-line: Use file.readline() when you need to read a file line-by-line.\n",
        "\n",
        "Example\n",
        "Here's an example demonstrating the difference between file.read() and file.readline():\n",
        "\n",
        "\n",
        "with open('example.txt', 'r') as file:\n",
        "    # Read entire file\n",
        "    contents = file.read()\n",
        "    print(contents)\n",
        "\n",
        "    # Reset file pointer\n",
        "    file.seek(0)"
      ],
      "metadata": {
        "id": "O8QLyLkaNG4W"
      }
    },
    {
      "cell_type": "markdown",
      "source": [
        "Os Module in Python for File Handling\n",
        "The os module in Python provides a way of using operating system dependent functionality. It offers a portable way of interacting with the operating system, allowing you to perform tasks such as:\n",
        "\n",
        "File and Directory Operations\n",
        "1. Creating and Deleting Files and Directories: Use os.mkdir() to create a directory, os.rmdir() to delete a directory, and os.remove() to delete a file.\n",
        "2. Changing Current Working Directory: Use os.chdir() to change the current working directory.\n",
        "3. Getting Current Working Directory: Use os.getcwd() to get the current working directory.\n",
        "\n",
        "File Information\n",
        "1. Getting File Statistics: Use os.stat() to get file statistics, such as file size, last access time, and last modification time.\n",
        "2. Checking if a File Exists: Use os.path.exists() to check if a file exists.\n",
        "\n",
        "File Permissions\n",
        "1. Changing File Permissions: Use os.chmod() to change file permissions.\n",
        "\n",
        "Path Operations\n",
        "1. Joining Paths: Use os.path.join() to join paths together.\n",
        "2. Splitting Paths: Use os.path.split() to split paths into their components.\n",
        "\n"
      ],
      "metadata": {
        "id": "uO3usBH7NHMM"
      }
    },
    {
      "cell_type": "markdown",
      "source": [
        "\n",
        "Challenges of Memory Management in Python\n",
        "While Python's garbage collector simplifies memory management, there are still challenges to be aware of:\n",
        "\n",
        "1. Memory Leaks\n",
        "Memory leaks occur when objects are no longer needed but still occupy memory.\n",
        "\n",
        "- Causes: Circular references, global variables, and unclosed resources can lead to memory leaks.\n",
        "- Consequences: Memory leaks can cause memory usage to increase over time, leading to performance issues and crashes.\n",
        "\n",
        "2. Reference Cycles\n",
        "Reference cycles occur when objects reference each other, preventing them from being garbage collected.\n",
        "\n",
        "- Causes: Circular references between objects can create reference cycles.\n",
        "- Consequences: Reference cycles can lead to memory leaks and performance issues.\n",
        "\n",
        "3. Memory Fragmentation\n",
        "Memory fragmentation occurs when free memory is broken into small, non-contiguous blocks.\n",
        "\n",
        "- Causes: Memory allocation and deallocation can lead to memory fragmentation.\n",
        "- Consequences: Memory fragmentation can cause memory allocation failures and performance issues.\n",
        "\n",
        "4. Garbage Collection Pauses\n",
        "Garbage collection pauses occur when the garbage collector temporarily suspends the application to perform garbage collection.\n",
        "\n",
        "- Causes: Garbage collection is necessary to free memory, but it can cause pauses in the application.\n",
        "- Consequences: Garbage collection pauses can cause performance issues and affect the responsiveness of the application.\n",
        "\n",
        "5. Memory-Intensive Operations\n",
        "Memory-intensive operations, such as large data processing, can put pressure on the memory management system.\n",
        "\n",
        "- Causes: Operations that require large amounts of memory can lead to memory management challenges.\n",
        "- Consequences: Memory-intensive operations can cause memory allocation failures, performance issues, and crashes.\n",
        "\n",
        "Best Practices for Memory Management in Python\n",
        "1. Use Weak References: Use weak references to avoid creating reference cycles.\n",
        "2. Implement __del__ Method: Implement the __del__ method to ensure proper cleanup of objects.\n",
        "3. Avoid Circular References: Avoid creating circular references, which can lead to reference cycles.\n",
        "4. Monitor Memory Usage: Monitor memory usage to detect potential memory-related issues.\n"
      ],
      "metadata": {
        "id": "K6ApgsEaNHVa"
      }
    },
    {
      "cell_type": "markdown",
      "source": [
        "Manually Raising an Exception in Python\n",
        "You can manually raise an exception in Python using the raise keyword.\n",
        "\n",
        "Syntax\n",
        "The syntax for raising an exception is:\n",
        "\n",
        "\n",
        "raise Exception('Error message')\n",
        "\n",
        "\n",
        "Example\n",
        "Here's an example of manually raising an exception:\n",
        "\n",
        "\n",
        "def divide_numbers(num1, num2):\n",
        "    if num2 == 0:\n",
        "        raise ValueError('Cannot divide by zero!')\n",
        "    return num1 / num2\n",
        "\n",
        "try:\n",
        "    result = divide_numbers(10, 0)\n",
        "except ValueError as e:\n",
        "    print(f'Error: {e}')\n",
        "\n",
        "\n",
        "Raising Custom Exceptions\n",
        "You can also raise custom exceptions by creating a class that inherits from the built-in Exception class.\n",
        "\n",
        "\n",
        "class InsufficientBalanceError(Exception):\n",
        "    pass\n",
        "\n",
        "def withdraw_money(balance, amount):\n",
        "    if amount > balance:\n",
        "        raise InsufficientBalanceError('Insufficient balance!')\n",
        "    return balance - amount\n",
        "\n",
        "try:\n",
        "    balance = 100\n",
        "    amount = 150\n",
        "    new_balance = withdraw_money(balance, amount)\n",
        "except InsufficientBalanceError as e:\n",
        "    print(f'Error: {e}')\n",
        "\n",
        "\n",
        "Best Practices\n",
        "1. Use Meaningful Error Messages: Use meaningful error messages to help with debugging and error handling.\n",
        "2. Raise Exceptions Early: Raise exceptions as soon as possible to prevent further execution of the program.\n",
        "3. Handle Exceptions: Handle exceptions properly to prevent program crashes and provide useful error messages."
      ],
      "metadata": {
        "id": "IpNK3NMgNHfZ"
      }
    },
    {
      "cell_type": "markdown",
      "source": [
        "Importance of Multitasking in Certain Situations\n",
        "Multitasking allows your program to perform multiple tasks concurrently, improving responsiveness, efficiency, and user experience.\n",
        "\n",
        "Scenarios Where Multitasking is Crucial\n",
        "1. I/O-Bound Operations: Multitasking is essential when performing I/O-bound operations, such as reading/writing files, network requests, or database queries.\n",
        "2. Real-Time Systems: In real-time systems, multitasking ensures that tasks are completed within a specific time frame, making it critical for applications like audio/video processing, simulations, or control systems.\n",
        "3. GUI Applications: Multitasking is vital in GUI applications to maintain responsiveness, allowing users to interact with the application while tasks run in the background.\n",
        "4. Server Applications: Servers often handle multiple client requests concurrently, making multitasking essential for efficient request handling and improved responsiveness.\n",
        "\n",
        "Benefits of Multitasking\n",
        "1. Improved Responsiveness: Multitasking allows your program to respond promptly to user input or events.\n",
        "2. Increased Throughput: By performing tasks concurrently, multitasking can increase the overall throughput of your program.\n",
        "3. Better Resource Utilization: Multitasking helps optimize resource usage, such as CPU, memory, or I/O devices.\n",
        "\n",
        "Challenges and Considerations\n",
        "1. Synchronization: Multitasking requires proper synchronization mechanisms to avoid data corruption or inconsistencies.\n",
        "2. Deadlocks: Deadlocks can occur when tasks wait for each other to release resources, leading to a stalemate.\n",
        "3. Starvation: Starvation happens when a task is unable to access shared resources due to other tasks holding onto them for extended periods."
      ],
      "metadata": {
        "id": "5G8SUBivNHpo"
      }
    },
    {
      "cell_type": "markdown",
      "source": [
        "# Practical solutions"
      ],
      "metadata": {
        "id": "A_QYRm6_TVJ-"
      }
    },
    {
      "cell_type": "code",
      "source": [
        "with open('example.txt', 'w') as file:\n",
        "    file.write('Hello, World!')"
      ],
      "metadata": {
        "id": "anCcZaPNKVZC"
      },
      "execution_count": 15,
      "outputs": []
    },
    {
      "cell_type": "code",
      "source": [
        "def read_file(filename):\n",
        "    try:\n",
        "        with open(filename, 'r') as file:\n",
        "            for line in file:\n",
        "                print(line.strip())\n",
        "    except FileNotFoundError:\n",
        "        print(f\"File '{filename}' not found.\")\n",
        "\n",
        "# Replace 'example.txt' with your file name\n",
        "read_file('example.txt')\n"
      ],
      "metadata": {
        "id": "lTvauM4UKVlH"
      },
      "execution_count": null,
      "outputs": []
    },
    {
      "cell_type": "code",
      "source": [
        "import os\n",
        "\n",
        "def read_file(filename):\n",
        "    if os.path.exists(filename):\n",
        "        with open(filename, 'r') as file:\n",
        "            # Read file contents\n",
        "            contents = file.read()\n",
        "            print(contents)\n",
        "    else:\n",
        "        print(f\"File '{filename}' not found.\")\n",
        "\n",
        "# Replace 'example.txt' with your file name\n",
        "read_file('example.txt')"
      ],
      "metadata": {
        "id": "1S8M64YuKVzD"
      },
      "execution_count": null,
      "outputs": []
    },
    {
      "cell_type": "code",
      "source": [
        "def copy_file(source_filename, destination_filename):\n",
        "    try:\n",
        "        with open(source_filename, 'r') as source_file:\n",
        "            with open(destination_filename, 'w') as destination_file:\n",
        "                destination_file.write(source_file.read())\n",
        "        print(f\"File '{source_filename}' copied to '{destination_filename}'\")\n",
        "    except FileNotFoundError:\n",
        "        print(f\"File '{source_filename}' not found\")\n",
        "    except Exception as e:\n",
        "        print(f\"An error occurred: {e}\")\n",
        "\n",
        "# Specify the source and destination file names\n",
        "source_filename = 'source.txt'\n",
        "destination_filename = 'destination.txt'\n",
        "\n",
        "copy_file(source_filename, destination_filename)\n"
      ],
      "metadata": {
        "id": "_5XAQdcbKV9T"
      },
      "execution_count": null,
      "outputs": []
    },
    {
      "cell_type": "code",
      "source": [
        "def divide_numbers(num1, num2):\n",
        "    try:\n",
        "        result = num1 / num2\n",
        "        return result\n",
        "    except ZeroDivisionError:\n",
        "        print(\"Error: Division by zero is not allowed.\")\n",
        "        return None\n",
        "\n",
        "# Test the function\n",
        "print(divide_numbers(10, 2))"
      ],
      "metadata": {
        "id": "LOX4emMUKWJg"
      },
      "execution_count": null,
      "outputs": []
    },
    {
      "cell_type": "code",
      "source": [
        "import logging\n",
        "# Set up logging configuration\n",
        "logging.basicConfig(filename='error.log', level=logging.ERROR)\n",
        "\n",
        "def divide_numbers(num1, num2):\n",
        "    try:\n",
        "        result = num1 / num2\n",
        "        return result\n",
        "    except ZeroDivisionError:\n",
        "        logging.error(\"Division by zero error occurred.\")\n",
        "        return None\n",
        "\n",
        "# Test the function\n",
        "print(divide_numbers(10, 2))"
      ],
      "metadata": {
        "id": "H16JaCpHKWVP"
      },
      "execution_count": null,
      "outputs": []
    },
    {
      "cell_type": "code",
      "source": [
        "import logging\n",
        "\n",
        "# Set up logging configuration\n",
        "logging.basicConfig(level=logging.DEBUG)\n",
        "\n",
        "# Log messages at different levels\n",
        "logging.debug('This is a debug message.')\n",
        "logging.info('This is an info message.')\n",
        "logging.warning('This is a warning message.')\n",
        "logging.error('This is an error message.')\n",
        "logging.critical('This is a critical message.')\n"
      ],
      "metadata": {
        "id": "De06hSR8KWg_"
      },
      "execution_count": null,
      "outputs": []
    },
    {
      "cell_type": "code",
      "source": [
        "def open_file(filename):\n",
        "    try:\n",
        "        file = open(filename, 'r')\n",
        "        print(f\"File '{filename}' opened successfully.\")\n",
        "        file.close()\n",
        "    except FileNotFoundError:\n",
        "        print(f\"File '{filename}' not found.\")\n",
        "    except PermissionError:\n",
        "        print(f\"Permission denied to open file '{filename}'.\")\n",
        "    except Exception as e:\n",
        "        print(f\"An error occurred: {e}\")\n",
        "\n",
        "# Test the function\n",
        "open_file('example.txt')"
      ],
      "metadata": {
        "id": "7877WyZgKWrG"
      },
      "execution_count": null,
      "outputs": []
    },
    {
      "cell_type": "code",
      "source": [
        "def read_file_lines(filename):\n",
        "    try:\n",
        "        with open(filename, 'r') as file:\n",
        "            lines = [line.strip() for line in file]\n",
        "        return lines\n",
        "    except FileNotFoundError:\n",
        "        print(f\"File '{filename}' not found.\")\n",
        "        return []\n",
        "\n",
        "# Test the function\n",
        "filename = 'example.txt'\n",
        "lines = read_file_lines(filename)\n",
        "print(lines)"
      ],
      "metadata": {
        "id": "ATZV0nmqKW4p"
      },
      "execution_count": null,
      "outputs": []
    },
    {
      "cell_type": "code",
      "source": [
        "\n",
        "def append_to_file(filename, data):\n",
        "    try:\n",
        "        with open(filename, 'a') as file:\n",
        "            file.write(data + '\\n')\n",
        "        print(f\"Data appended to '{filename}'\")\n",
        "    except Exception as e:\n",
        "        print(f\"An error occurred: {e}\")\n",
        "\n",
        "# Test the function\n",
        "filename = 'example.txt'\n",
        "data = 'This is new data'\n",
        "append_to_file(filename, data)"
      ],
      "metadata": {
        "id": "xWMma20SKXDr"
      },
      "execution_count": null,
      "outputs": []
    },
    {
      "cell_type": "code",
      "source": [
        "\n",
        "def access_dictionary_key(dictionary, key):\n",
        "    try:\n",
        "        value = dictionary[key]\n",
        "        print(f\"The value of '{key}' is: {value}\")\n",
        "    except KeyError:\n",
        "        print(f\"Error: Key '{key}' not found in dictionary.\")\n",
        "\n",
        "# Test the function\n",
        "my_dict = {'name': 'John', 'age': 30}\n",
        "access_dictionary_key(my_dict, 'name')"
      ],
      "metadata": {
        "id": "bBsTFKaBKXNn"
      },
      "execution_count": null,
      "outputs": []
    },
    {
      "cell_type": "code",
      "source": [
        "def divide_numbers(num1, num2):\n",
        "    try:\n",
        "        result = num1 / num2\n",
        "        print(f\"The result is: {result}\")\n",
        "    except ZeroDivisionError:\n",
        "        print(\"Error: Division by zero is not allowed.\")\n",
        "    except TypeError:\n",
        "        print(\"Error: Invalid input type. Please enter numbers only.\")\n",
        "    except Exception as e:\n",
        "        print(f\"An unexpected error occurred: {e}\")\n",
        "\n",
        "# Test the function\n",
        "divide_numbers(10, 2)"
      ],
      "metadata": {
        "id": "JlBVv79dKXW3"
      },
      "execution_count": null,
      "outputs": []
    },
    {
      "cell_type": "code",
      "source": [
        "import os\n",
        "\n",
        "def check_file_exists(filename):\n",
        "    if os.path.exists(filename):\n",
        "        print(f\"File '{filename}' exists.\")\n",
        "        return True\n",
        "    else:\n",
        "        print(f\"File '{filename}' does not exist.\")\n",
        "        return False\n",
        "\n",
        "# Test the function\n",
        "filename = 'example.txt'\n",
        "if check_file_exists(filename):\n",
        "    with open(filename, 'r') as file:\n",
        "        print(file.read())"
      ],
      "metadata": {
        "id": "h_CMADuAKXf6"
      },
      "execution_count": null,
      "outputs": []
    },
    {
      "cell_type": "code",
      "source": [
        "\n",
        "import logging\n",
        "\n",
        "# Set up logging configuration\n",
        "logging.basicConfig(level=logging.INFO)\n",
        "\n",
        "def divide_numbers(num1, num2):\n",
        "    try:\n",
        "        result = num1 / num2\n",
        "        logging.info(f\"Successfully divided {num1} by {num2}. Result: {result}\")\n",
        "        return result\n",
        "    except ZeroDivisionError:\n",
        "        logging.error(\"Error: Division by zero is not allowed.\")\n",
        "        return None\n",
        "    except Exception as e:\n",
        "        logging.error(f\"An unexpected error occurred: {e}\")\n",
        "        return None\n",
        "\n",
        "# Test the function\n",
        "result = divide_numbers(10, 2)\n",
        "print(result)"
      ],
      "metadata": {
        "id": "oKKUb0z7KXqs"
      },
      "execution_count": null,
      "outputs": []
    },
    {
      "cell_type": "code",
      "source": [
        "def print_file_content(filename):\n",
        "    try:\n",
        "        with open(filename, 'r') as file:\n",
        "            content = file.read()\n",
        "            if content:\n",
        "                print(f\"Content of '{filename}':\")\n",
        "                print(content)\n",
        "            else:\n",
        "                print(f\"File '{filename}' is empty.\")\n",
        "    except FileNotFoundError:\n",
        "        print(f\"File '{filename}' not found.\")\n",
        "    except Exception as e:\n",
        "        print(f\"An error occurred: {e}\")\n",
        "\n",
        "# Test the function\n",
        "filename = 'example.txt'\n",
        "print_file_content(filename)"
      ],
      "metadata": {
        "id": "bE4qrBBzKX2J"
      },
      "execution_count": null,
      "outputs": []
    },
    {
      "cell_type": "code",
      "source": [
        "import psutil\n",
        "import os\n",
        "\n",
        "def memory_intensive_function():\n",
        "  large_array = np.random.rand(1000000)\n",
        "  result = np.sum(large_array)\n",
        "  return result\n",
        "  if __name__ == \"__main__\":\n",
        "    process = psutil.Process(os.getpid())\n",
        "    mem_before = process.memory_info().rss / (1024 * 1024)\n",
        "    result = memory_intensive_function()\n",
        "    mem_after = process.memory_info().rss / (1024 * 1024)\n",
        "    print(f\"Memory usage before: {mem_before} MB\")\n",
        "    print(f\"Memory usage after: {mem_after} MB\")\n",
        "    print(f\"Result: {result}\")\n"
      ],
      "metadata": {
        "id": "nVdpKG8ZKX_q"
      },
      "execution_count": 32,
      "outputs": []
    },
    {
      "cell_type": "code",
      "source": [
        "def read_numbers_from_file(filename):\n",
        "    try:\n",
        "        with open(filename, 'r') as file:\n",
        "            numbers = [int(line.strip()) for line in file]\n",
        "        print(f\"Numbers read from '{filename}': {numbers}\")\n",
        "    except Exception as e:\n",
        "        print(f\"An error occurred: {e}\")\n",
        "\n",
        "# Test the function\n",
        "filename = 'numbers.txt'\n",
        "read_numbers_from_file(filename)"
      ],
      "metadata": {
        "id": "RNT1aB3HKYIy"
      },
      "execution_count": null,
      "outputs": []
    },
    {
      "cell_type": "code",
      "source": [
        "import logging\n",
        "import os\n",
        "from logging.handlers import RotatingFileHandler\n",
        "\n",
        "# Set up logging configuration\n",
        "logger = logging.getLogger()\n",
        "logger.setLevel(logging.INFO)\n",
        "\n",
        "# Set up rotating file handler\n",
        "log_filename = 'app.log'\n",
        "log_max_size = 1024 * 1024  # 1MB\n",
        "log_backup_count = 5\n",
        "\n",
        "handler = RotatingFileHandler(log_filename, maxBytes=log_max_size, backupCount=log_backup_count)\n",
        "handler.setLevel(logging.INFO)\n",
        "\n",
        "# Create a formatter and set it for the handler\n",
        "formatter = logging.Formatter('%(asctime)s - %(levelname)s - %(message)s')\n",
        "handler.setFormatter(formatter)\n",
        "\n",
        "# Add the handler to the logger\n",
        "logger.addHandler(handler)\n",
        "\n",
        "# Test the logger\n",
        "for i in range(100000):\n",
        "    logger.info(f'This is log message {i}')\n",
        ""
      ],
      "metadata": {
        "id": "VqF8cwQvKYcy"
      },
      "execution_count": null,
      "outputs": []
    },
    {
      "cell_type": "code",
      "source": [
        "def access_data(data, index, key):\n",
        "    try:\n",
        "        value = data[index][key]\n",
        "        print(f\"The value is: {value}\")\n",
        "    except IndexError:\n",
        "        print(\"Error: Index out of range.\")\n",
        "    except KeyError:\n",
        "        print(\"Error: Key not found.\")\n",
        "    except Exception as e:\n",
        "        print(f\"An unexpected error occurred: {e}\")\n",
        "\n",
        "# Test the function\n",
        "data = {\n",
        "    0: {\"name\": \"John\", \"age\": 30},\n",
        "    1: {\"name\": \"Jane\", \"age\": 25}\n",
        "}\n"
      ],
      "metadata": {
        "id": "PFHyPYLpKYox"
      },
      "execution_count": null,
      "outputs": []
    },
    {
      "cell_type": "code",
      "source": [
        "def read_file_contents(filename):\n",
        "    try:\n",
        "        with open(filename, 'r') as file:\n",
        "            contents = file.read()\n",
        "            print(f\"Contents of '{filename}':\\n{contents}\")\n",
        "    except FileNotFoundError:\n",
        "        print(f\"File '{filename}' not found.\")\n",
        "    except Exception as e:\n",
        "        print(f\"An error occurred: {e}\")\n",
        "\n",
        "# Test the function\n",
        "filename = 'example.txt'\n",
        "read_file_contents(filename)"
      ],
      "metadata": {
        "id": "DL4oQAjOKYy1"
      },
      "execution_count": null,
      "outputs": []
    },
    {
      "cell_type": "code",
      "source": [
        "def count_word_occurrences(filename, word):\n",
        "    try:\n",
        "        with open(filename, 'r') as file:\n",
        "            contents = file.read()\n",
        "            words = contents.split()\n",
        "            word_count = words.count(word.lower())\n",
        "            print(f\"The word '{word}' occurs {word_count} times in '{filename}'.\")\n",
        "    except FileNotFoundError:\n",
        "        print(f\"File '{filename}' not found.\")\n",
        "    except Exception as e:\n",
        "        print(f\"An error occurred: {e}\")\n",
        "\n",
        "# Test the function\n",
        "filename = 'example.txt'\n",
        "word = 'the'\n",
        "count_word_occurrences(filename, word)"
      ],
      "metadata": {
        "collapsed": true,
        "id": "7dpn0SXqKZAh"
      },
      "execution_count": null,
      "outputs": []
    },
    {
      "cell_type": "code",
      "source": [
        "import os\n",
        "\n",
        "def check_file_empty(filename):\n",
        "    try:\n",
        "        file_stat = os.stat(filename)\n",
        "        if file_stat.st_size == 0:\n",
        "            print(f\"File '{filename}' is empty.\")\n",
        "            return True\n",
        "        else:\n",
        "            print(f\"File '{filename}' is not empty.\")\n",
        "            return False\n",
        "    except FileNotFoundError:\n",
        "        print(f\"File '{filename}' not found.\")\n",
        "        return None\n",
        "    except Exception as e:\n",
        "        print(f\"An error occurred: {e}\")\n",
        "        return None\n",
        ""
      ],
      "metadata": {
        "id": "DC71AqyoKZt-"
      },
      "execution_count": null,
      "outputs": []
    },
    {
      "cell_type": "code",
      "source": [
        "import logging\n",
        "\n",
        "# Set up logging configuration\n",
        "logging.basicConfig(filename='error.log', level=logging.ERROR)\n",
        "\n",
        "def handle_file(filename):\n",
        "    try:\n",
        "        with open(filename, 'r') as file:\n",
        "            contents = file.read()\n",
        "            print(contents)\n",
        "    except FileNotFoundError:\n",
        "        logging.error(f\"File '{filename}' not found.\")\n",
        "    except PermissionError:\n",
        "        logging.error(f\"Permission denied to access file '{filename}'.\")\n",
        "    except Exception as e:\n",
        "        logging.error(f\"An error occurred: {e}\")\n",
        "\n",
        "# Test the function\n",
        "filename = 'example.txt'\n",
        "handle_file(filename)\n"
      ],
      "metadata": {
        "id": "36nS3eX3KKoi"
      },
      "execution_count": null,
      "outputs": []
    }
  ]
}