{
  "nbformat": 4,
  "nbformat_minor": 0,
  "metadata": {
    "colab": {
      "provenance": [],
      "toc_visible": true
    },
    "kernelspec": {
      "name": "python3",
      "display_name": "Python 3"
    },
    "language_info": {
      "name": "python"
    }
  },
  "cells": [
    {
      "cell_type": "code",
      "execution_count": null,
      "metadata": {
        "id": "DLkIWWwn0Lij"
      },
      "outputs": [],
      "source": []
    },
    {
      "cell_type": "markdown",
      "source": [
        "# Theory Solutions"
      ],
      "metadata": {
        "id": "9kkPm9uxeUUT"
      }
    },
    {
      "cell_type": "markdown",
      "source": [
        "#1\n",
        "Statistics is the study of collecting, analyzing, interpreting, presenting, and organizing data. It helps us understand patterns, trends, and relationships in data, making informed decisions possible.\n",
        "\n",
        "Statistics is important because it:\n",
        "\n",
        "1. Informs decision-making: By analyzing data, statistics helps us make informed decisions in various fields, such as business, healthcare, social sciences, and more.\n",
        "2. Identifies patterns and trends: Statistical analysis reveals patterns and trends in data, enabling us to predict future outcomes and understand underlying mechanisms.\n",
        "3. Evaluates effectiveness: Statistics helps assess the effectiveness of policies, interventions, and treatments, allowing us to refine and improve them.\n",
        "4. Supports research and innovation: Statistical methods are essential in research, enabling scientists to test hypotheses, validate findings, and discover new insights.\n",
        "5. Enhances critical thinking: Studying statistics promotes critical thinking, analytical skills, and problem-solving abilities.\n",
        "\n",
        "In many fields, statistics plays a crucial role in:\n",
        "\n",
        "- Business: market research, forecasting, and quality control\n",
        "- Healthcare: medical research, disease tracking, and treatment evaluation\n",
        "- Social sciences: understanding social phenomena, policy evaluation, and program assessment\n",
        "- Government: policy-making, resource allocation, and performance monitoring"
      ],
      "metadata": {
        "id": "cl7iGPdwehi1"
      }
    },
    {
      "cell_type": "markdown",
      "source": [
        "#2\n",
        "The two main types of statistics are:\n",
        "\n",
        "1. Descriptive Statistics: This type of statistics involves summarizing and describing the basic features of a dataset, such as:\n",
        "    - Measures of central tendency (mean, median, mode)\n",
        "    - Measures of variability (range, variance, standard deviation)\n",
        "    - Data visualization (charts, graphs, tables)\n",
        "\n",
        "Descriptive statistics helps to understand the characteristics of a dataset and provides a snapshot of the data.\n",
        "\n",
        "2. Inferential Statistics: This type of statistics involves using sample data to make conclusions or predictions about a larger population. It involves:\n",
        "    - Hypothesis testing\n",
        "    - Confidence intervals\n",
        "    - Regression analysis\n",
        "    - Statistical modeling"
      ],
      "metadata": {
        "id": "Xn0AOIpQjEj6"
      }
    },
    {
      "cell_type": "markdown",
      "source": [
        "#3\n",
        "Descriptive statistics is a branch of statistics that deals with summarizing and describing the basic features of a dataset. It provides a snapshot of the data, helping to understand its characteristics. Descriptive statistics includes:\n",
        "\n",
        "1. Measures of central tendency:\n",
        "    - Mean (average)\n",
        "    - Median (middle value)\n",
        "    - Mode (most frequent value)\n",
        "2. Measures of variability:\n",
        "    - Range (difference between max and min values)\n",
        "    - Variance (spread of data)\n",
        "    - Standard deviation (average distance from mean)\n",
        "3. Data visualization:\n",
        "    - Charts (bar charts, histograms)\n",
        "    - Graphs (scatter plots, box plots)\n",
        "    - Tables (frequency distributions)\n",
        "4. Other measures:\n",
        "    - Percentiles (quartiles, deciles)\n",
        "    - Skewness (asymmetry)\n",
        "    - Kurtosis (tailedness)\n",
        "\n",
        "Descriptive statistics helps to:\n",
        "\n",
        "- Understand data distribution\n",
        "- Identify patterns and trends\n",
        "- Summarize large datasets\n",
        "- Prepare data for further analysis"
      ],
      "metadata": {
        "id": "r8t2dAqFehwX"
      }
    },
    {
      "cell_type": "markdown",
      "source": [
        "#4\n",
        "Inferential statistics is a branch of statistics that deals with making conclusions or predictions about a population based on a sample of data. It involves using statistical methods to:\n",
        "\n",
        "1. Test hypotheses: Determine if there's enough evidence to support or reject a hypothesis about a population.\n",
        "2. Estimate parameters: Estimate population parameters (e.g., mean, proportion) based on sample data.\n",
        "3. Make predictions: Predict future outcomes or trends based on sample data.\n",
        "4. Compare groups: Compare means, proportions, or other characteristics between different groups.\n",
        "\n",
        "Inferential statistics uses various techniques, such as:\n",
        "\n",
        "1. Hypothesis testing (t-tests, ANOVA, chi-square tests)\n",
        "2. Confidence intervals (estimating population parameters)\n",
        "3. Regression analysis (modeling relationships)\n",
        "4. Statistical modeling (predicting outcomes)\n",
        "\n",
        "Inferential statistics helps to:\n",
        "\n",
        "- Draw conclusions about a population based on a sample\n",
        "- Test research hypotheses\n",
        "- Make informed decisions\n",
        "- Predict future outcomes"
      ],
      "metadata": {
        "id": "K5gFCgPceiID"
      }
    },
    {
      "cell_type": "markdown",
      "source": [
        "#5\n",
        "Sampling in statistics is the process of selecting a subset of individuals or observations from a larger population to make inferences about the entire population.\n",
        "\n",
        "1. Cost-effective: Studying a sample is often less expensive than studying the entire population.\n",
        "2. Time-efficient: Sampling saves time compared to collecting data from the entire population.\n",
        "3. Feasible: Sampling makes it possible to study populations that are too large or dispersed."
      ],
      "metadata": {
        "id": "KX94t71seiUj"
      }
    },
    {
      "cell_type": "markdown",
      "source": [
        "#6\n",
        "There are several types of sampling methods, including:\n",
        "\n",
        "Probability Sampling Methods:\n",
        "\n",
        "1. Simple Random Sampling: Every member of the population has an equal chance of being selected.\n",
        "2. Stratified Sampling: The population is divided into subgroups (strata), and samples are drawn from each stratum.\n",
        "3. Systematic Sampling: Samples are selected at regular intervals (e.g., every 10th item).\n",
        "4. Cluster Sampling: Samples are selected in groups (e.g., clusters of people or items).\n",
        "5. Multistage Sampling: Samples are selected in multiple stages, with smaller groups selected from larger groups.\n",
        "\n",
        "Non-Probability Sampling Methods:\n",
        "\n",
        "1. Convenience Sampling: Samples are selected based on ease of access or convenience.\n",
        "2. Purposive Sampling: Samples are selected based on specific criteria or characteristics.\n",
        "3. Quota Sampling: Samples are selected to meet specific quotas or criteria.\n",
        "4. Snowball Sampling: Existing participants recruit additional participants.\n",
        "5. Judgment Sampling: Samples are selected based on expert judgment or opinion."
      ],
      "metadata": {
        "id": "pfWIPF6xeid2"
      }
    },
    {
      "cell_type": "markdown",
      "source": [
        "#7\n",
        "he main difference between random and non-random sampling is:\n",
        "\n",
        "Random Sampling:\n",
        "\n",
        "1. Every member of the population has an equal chance of being selected.\n",
        "2. Reduces bias: Minimizes systematic errors and ensures representativeness.\n",
        "3. Increases generalizability: Allows findings to be applied to the larger population.\n",
        "4. Supports statistical inference: Enables researchers to make reliable estimates and predictions.\n",
        "\n",
        "Non-Random Sampling:\n",
        "\n",
        "1. Selection is based on other factors, such as convenience, judgment, or quotas.\n",
        "2. May introduce bias: Can lead to systematic errors and overrepresentation or underrepresentation of certain groups.\n",
        "3. Limited generalizability: Findings may not be applicable to the larger population.\n",
        "4. More suitable for exploratory research: Useful for pilot studies, qualitative research, or when random sampling is not feasible.\n",
        "\n",
        "Random sampling is preferred when:\n",
        "\n",
        "- Representativeness is crucial\n",
        "- Generalizability is important\n",
        "- Statistical inference is needed\n",
        "\n",
        "Non-random sampling is suitable when:\n",
        "\n",
        "- Exploratory research is the goal\n",
        "- Resources are limited\n",
        "- Specific subgroups or expertise are needed"
      ],
      "metadata": {
        "id": "g4OhI6sveikr"
      }
    },
    {
      "cell_type": "markdown",
      "source": [
        "#8\n",
        "Qualitative Data:\n",
        "\n",
        "1. Non-numerical data: Describes characteristics, attributes, or qualities.\n",
        "2. Examples:\n",
        "    - Text (interviews, surveys, descriptions)\n",
        "    - Images (photographs, videos)\n",
        "    - Observations (behavior, interactions)\n",
        "    - Opinions (attitudes, perceptions)\n",
        "3. Purpose: Understands meaning, context, and experiences.\n",
        "\n",
        "Quantitative Data:\n",
        "\n",
        "1. Numerical data: Measures quantities, amounts, or frequencies.\n",
        "2. Examples:\n",
        "    - Numbers (age, income, scores)\n",
        "    - Percentages (rates, proportions)\n",
        "    - Statistics (means, medians, standard deviations)\n",
        "    - Counts (frequency, occurrences)\n",
        "3. Purpose: Analyzes patterns, trends, and relationships.\n",
        "\n",
        "Key differences:\n",
        "\n",
        "1. Data type: Qualitative (non-numerical) vs. Quantitative (numerical)\n",
        "2. Analysis: Qualitative (thematic, content analysis) vs. Quantitative (statistical analysis)\n",
        "3. Purpose: Qualitative (understanding meaning) vs. Quantitative (identifying patterns and trends)"
      ],
      "metadata": {
        "id": "bSPH9ek_eio1"
      }
    },
    {
      "cell_type": "markdown",
      "source": [
        "#9\n",
        "1. Categorical Data:\n",
        "* Nominal data: Labels or names without any inherent order (e.g., colors, categories)\n",
        "* Ordinal data: Categories with a natural order or ranking (e.g., ratings, ranks)\n",
        "\n",
        "2. Numerical Data:\n",
        "* Discrete data: Countable values (e.g., number of students, number of errors)\n",
        "* Continuous data: Measurable values that can take any value within a range (e.g., height, weight, temperature)\n",
        "\n",
        "3. Other types of data:\n",
        "* Interval data: Numerical data with equal intervals between consecutive values (e.g., temperature in Celsius)\n",
        "* Ratio data: Numerical data with a true zero point and equal intervals (e.g., weight, height)\n",
        "* Time series data: Data collected at regular intervals over time (e.g., stock prices, weather data)\n"
      ],
      "metadata": {
        "id": "rQL7u3RHeisr"
      }
    },
    {
      "cell_type": "markdown",
      "source": [
        "#10\n",
        "1. Nominal Level:\n",
        "\n",
        "- Labels or categories: No inherent order or ranking (e.g., colors, names, categories)\n",
        "- No quantitative value: Can't perform mathematical operations\n",
        "- Examples: Gender, nationality, product category\n",
        "\n",
        "2. Ordinal Level:\n",
        "\n",
        "- Ordered categories: Categories have a natural order or ranking (e.g., ratings, ranks)\n",
        "- No equal intervals: Differences between categories are not equal\n",
        "- Examples: Satisfaction ratings (e.g., 1-5), educational level (e.g., high school, college, graduate)\n",
        "\n",
        "3. Interval Level:\n",
        "\n",
        "- Numerical values: Equal intervals between consecutive values\n",
        "- No true zero point: Zero is arbitrary (e.g., temperature in Celsius or Fahrenheit)\n",
        "- Examples: Temperature, IQ scores, calendar years\n",
        "\n",
        "4. Ratio Level:\n",
        "\n",
        "- Numerical values: Equal intervals and a true zero point\n",
        "- Meaningful ratios: Can calculate ratios and proportions (e.g., weight, height, time)\n",
        "- Examples: Weight, height, age, income\n"
      ],
      "metadata": {
        "id": "P5i9JH3Keiwf"
      }
    },
    {
      "cell_type": "markdown",
      "source": [
        "#11\n",
        "A measure of central tendency is a statistical measure that describes the middle or typical value of a dataset. It provides a single value that represents the entire dataset. There are three main measures of central tendency:\n",
        "\n",
        "1. Mean:\n",
        "- The average value of the dataset\n",
        "- Calculated by summing all values and dividing by the number of values\n",
        "- Sensitive to extreme values (outliers)\n",
        "\n",
        "2. Median:\n",
        "- The middle value of the dataset when values are arranged in order\n",
        "- If there are an even number of values, the median is the average of the two middle values\n",
        "- More robust to extreme values than the mean\n",
        "\n",
        "3. Mode:\n",
        "- The most frequently occurring value in the dataset\n",
        "- A dataset may have one mode (unimodal), multiple modes (multimodal), or no mode at all\n",
        "\n",
        "Measures of central tendency are useful for:\n",
        "\n",
        "- Describing the typical value of a dataset\n",
        "- Comparing datasets\n",
        "- Identifying patterns and trends\n"
      ],
      "metadata": {
        "id": "Wb8AjGgpei0k"
      }
    },
    {
      "cell_type": "markdown",
      "source": [
        "#12\n",
        "\n",
        "Mean:\n",
        "\n",
        "- Average value: Sum of all values divided by the number of values\n",
        "- Sensitive to outliers: Extreme values can skew the mean\n",
        "- Example: Calculating the average score of a class\n",
        "\n",
        "Median:\n",
        "\n",
        "- Middle value: Middle value of a dataset when it's sorted in order\n",
        "- Robust to outliers: Extreme values have less impact on the median\n",
        "- Example: Finding the median income of a group of people\n",
        "\n",
        "Mode:\n",
        "\n",
        "- Most frequent value: Value that appears most often in a dataset\n",
        "- Can be multiple modes: If multiple values appear with the same frequency\n",
        "- Example: Identifying the most popular color in a survey\n"
      ],
      "metadata": {
        "id": "QQadXWk5ei4D"
      }
    },
    {
      "cell_type": "markdown",
      "source": [
        "#13\n",
        "The measure of central tendency is significant because it:\n",
        "\n",
        "1. Provides a summary: Gives a single value that represents the entire dataset.\n",
        "2. Helps understand data distribution: Indicates where the data tends to cluster.\n",
        "3. Facilitates comparison: Allows comparison between datasets or groups.\n",
        "4. Supports decision-making: Informs decisions by providing a typical value.\n",
        "5. Identifies patterns: Helps identify trends and patterns in data.\n",
        "\n",
        "Measures of central tendency are essential in statistics, research, and real-world applications, such as:\n",
        "\n",
        "1. Business: Analyzing sales data or customer behavior.\n",
        "2. Healthcare: Understanding patient outcomes or treatment effectiveness.\n",
        "3. Education: Evaluating student performance or program effectiveness."
      ],
      "metadata": {
        "id": "iVCS6ztGei7o"
      }
    },
    {
      "cell_type": "markdown",
      "source": [
        "#14\n",
        "Variance:\n",
        "\n",
        "- Measures spread or dispersion: Indicates how much individual data points deviate from the mean.\n",
        "- Quantifies variability: Helps understand the amount of variation in a dataset.\n",
        "\n",
        "Calculating Variance:\n",
        "\n",
        "1. Find the mean: Calculate the average value of the dataset.\n",
        "2. Calculate deviations: Subtract the mean from each data point.\n",
        "3. Square deviations: Square each deviation to make them positive and weight them.\n",
        "4. Average squared deviations: Calculate the average of the squared deviations.\n",
        "\n",
        "Formula:\n",
        "\n",
        "Variance (σ²) = Σ(xi - μ)² / N\n",
        "\n",
        "Where:\n",
        "- σ² = variance\n",
        "- xi = individual data points\n",
        "- μ = mean\n",
        "- N = number of data points\n",
        "\n",
        "Interpretation:\n",
        "\n",
        "- Small variance: Data points are close to the mean.\n",
        "- Large variance: Data points are spread out from the mean."
      ],
      "metadata": {
        "id": "6lAalIjQei_E"
      }
    },
    {
      "cell_type": "markdown",
      "source": [
        "#15\n",
        "Standard Deviation:\n",
        "\n",
        "- Measures spread or dispersion: Indicates how much individual data points deviate from the mean.\n",
        "- Square root of variance: Standard deviation is the square root of the variance.\n",
        "\n",
        "Importance:\n",
        "\n",
        "1. Understand variability: Standard deviation helps understand the amount of variation in a dataset.\n",
        "2. Compare datasets: Allows comparison of variability between different datasets.\n",
        "3. Identify outliers: Helps identify data points that are significantly different from the mean.\n",
        "4. Statistical analysis: Used in various statistical analyses, such as hypothesis testing and confidence intervals.\n",
        "5. Risk assessment: In finance, standard deviation is used to measure volatility and risk.\n",
        "\n",
        "Interpretation:\n",
        "\n",
        "- Small standard deviation: Data points are close to the mean.\n",
        "- Large standard deviation: Data points are spread out from the mean.\n",
        "\n",
        "\n"
      ],
      "metadata": {
        "id": "OUeq6PupejCs"
      }
    },
    {
      "cell_type": "markdown",
      "source": [
        "#16\n",
        "Range:\n",
        "\n",
        "- Difference between max and min values: Measures the spread or dispersion of a dataset.\n",
        "- Calculated as: Maximum value - Minimum value\n",
        "\n",
        "Example:\n",
        "\n",
        "- Dataset: 2, 4, 6, 8, 10\n",
        "- Range: 10 (max) - 2 (min) = 8\n",
        "\n",
        "Interpretation:\n",
        "\n",
        "- Large range: Data is spread out over a wide range of values.\n",
        "- Small range: Data is clustered around a central value.\n",
        "\n",
        "Importance:\n",
        "\n",
        "- Understand data spread: Range provides a simple measure of variability.\n",
        "- Identify outliers: Helps detect extreme values that may impact analysis.\n",
        "- Preliminary analysis: Often used as a preliminary step in data analysis.\n"
      ],
      "metadata": {
        "id": "I_CRRyo2ejGF"
      }
    },
    {
      "cell_type": "markdown",
      "source": [
        "#17\n",
        "Variance vs. Standard Deviation:\n",
        "\n",
        "1. Variance:\n",
        "    - Measures spread or dispersion\n",
        "    - Average of squared differences from the mean\n",
        "    - Unit is squared (e.g., cm²)\n",
        "2. Standard Deviation:\n",
        "    - Measures spread or dispersion\n",
        "    - Square root of variance\n",
        "    - Unit is same as original data (e.g., cm)\n",
        "\n",
        "Key differences:\n",
        "\n",
        "1. Unit: Variance has squared units, while standard deviation has the same units as the data.\n",
        "2. Interpretation: Standard deviation is more intuitive and easier to interpret, as it's in the same units as the data.\n",
        "\n",
        "Both are useful:\n",
        "\n",
        "1. Variance: Used in statistical calculations and formulas.\n",
        "2. Standard Deviation: Provides a more interpretable measure of spread."
      ],
      "metadata": {
        "id": "o4uDBLt7ejJo"
      }
    },
    {
      "cell_type": "markdown",
      "source": [
        "#18\n",
        "Skewness:\n",
        "\n",
        "- Measures asymmetry: Indicates whether data is symmetrically distributed or skewed to one side.\n",
        "- Types of skewness:\n",
        "    1. Positive skewness: Tail on the right side is longer or fatter.\n",
        "    2. Negative skewness: Tail on the left side is longer or fatter.\n",
        "    3. Zero skewness: Data is symmetric.\n",
        "\n",
        "Effects of skewness:\n",
        "\n",
        "1. Affects mean and median: Skewness can impact the relationship between the mean and median.\n",
        "2. Influences statistical analysis: Skewness can affect the validity of certain statistical tests."
      ],
      "metadata": {
        "id": "tEfuZpLvejWt"
      }
    },
    {
      "cell_type": "markdown",
      "source": [
        "#19\n",
        "Positive Skewness:\n",
        "\n",
        "- Tail on the right side is longer or fatter: More extreme values on the right side.\n",
        "- Mean > Median: Mean is pulled to the right by extreme values.\n",
        "- Example: Income distribution, where a few people have very high incomes.\n",
        "\n",
        "Negative Skewness:\n",
        "\n",
        "- Tail on the left side is longer or fatter: More extreme values on the left side.\n",
        "- Mean < Median: Mean is pulled to the left by extreme values.\n",
        "- Example: Exam scores, where a few students score very low.\n",
        "\n",
        "Implications:\n",
        "\n",
        "1. Asymmetric distribution: Data is not symmetric around the mean.\n",
        "2. Outliers: Skewness can be caused by outliers or extreme values.\n",
        "3. Statistical analysis: Skewness can impact the choice of statistical tests and interpretation of results.\n"
      ],
      "metadata": {
        "id": "jXixtI3cejcm"
      }
    },
    {
      "cell_type": "markdown",
      "source": [
        "#20\n",
        "Kurtosis:\n",
        "\n",
        "- Measures tail heaviness: Indicates the presence of outliers or extreme values in the tails of a distribution.\n",
        "- Describes shape: Measures how \"tailed\" or \"flat\" a distribution is compared to a normal distribution.\n",
        "\n",
        "Types of Kurtosis:\n",
        "\n",
        "1. Leptokurtic (High Kurtosis): Heavy tails, more outliers.\n",
        "2. Platykurtic (Low Kurtosis): Light tails, fewer outliers.\n",
        "3. Mesokurtic (Normal Kurtosis): Normal distribution, moderate tails.\n",
        "\n",
        "Importance:\n",
        "\n",
        "1. Understand outliers: Kurtosis helps identify the presence of extreme values.\n",
        "2. Risk assessment: High kurtosis can indicate higher risk or volatility.\n",
        "3. Statistical analysis: Kurtosis can impact the choice of statistical tests and models.\n",
        "\n",
        "Interpretation:\n",
        "\n",
        "- High kurtosis: More extreme values, potential outliers.\n",
        "- Low kurtosis: Fewer extreme values, more consistent data.\n",
        "\n",
        "Kurtosis is a valuable concept in statistics, helping to understand the shape and behavior of data distributions."
      ],
      "metadata": {
        "id": "ShvoAUKIejgC"
      }
    },
    {
      "cell_type": "markdown",
      "source": [
        "#21\n",
        "Covariance:\n",
        "\n",
        "- Measures relationship: Describes how two variables change together.\n",
        "- Direction of relationship: Positive covariance indicates variables tend to increase or decrease together, while negative covariance indicates one variable tends to increase as the other decreases.\n",
        "\n",
        "Purpose:\n",
        "\n",
        "1. Understand relationships: Helps identify how variables are related.\n",
        "2. Analyze joint variability: Measures how much two variables vary together.\n",
        "3. Foundation for correlation: Covariance is used to calculate correlation coefficients.\n",
        "\n",
        "Applications:\n",
        "\n",
        "1. Finance: Analyzing relationships between asset returns.\n",
        "2. Data analysis: Understanding relationships between variables.\n",
        "3. Machine learning: Feature selection and understanding relationships between variables."
      ],
      "metadata": {
        "id": "QQSsK9d8ejke"
      }
    },
    {
      "cell_type": "markdown",
      "source": [
        "#22\n",
        "Correlation:\n",
        "\n",
        "- Measures strength and direction: Describes the linear relationship between two variables.\n",
        "- Quantifies association: Indicates how closely two variables move together.\n",
        "\n",
        "Key aspects:\n",
        "\n",
        "1. Strength: Measured by the correlation coefficient (e.g., Pearson's r), ranging from -1 to 1.\n",
        "2. Direction: Positive correlation indicates variables tend to increase together, while negative correlation indicates one variable tends to decrease as the other increases.\n",
        "\n",
        "Interpretation:\n",
        "\n",
        "- Strong correlation: Variables tend to move closely together.\n",
        "- Weak correlation: Variables have a loose relationship.\n",
        "- No correlation: Variables do not tend to move together.\n",
        "\n",
        "Importance:\n",
        "\n",
        "1. Understand relationships: Correlation helps identify relationships between variables.\n",
        "2. Predictive modeling: Correlation is used in regression analysis and predictive modeling.\n",
        "3. Data analysis: Correlation analysis informs decisions and identifies patterns."
      ],
      "metadata": {
        "id": "YJiTviYmejoL"
      }
    },
    {
      "cell_type": "markdown",
      "source": [
        "#23\n",
        "Covariance vs. Correlation:\n",
        "\n",
        "1. Covariance:\n",
        "    - Measures how two variables change together.\n",
        "    - Unit-dependent (affected by scale of variables).\n",
        "    - Indicates direction of relationship (positive or negative).\n",
        "2. Correlation:\n",
        "    - Measures strength and direction of linear relationship.\n",
        "    - Unit-less (standardized measure).\n",
        "    - Ranges from -1 (perfect negative) to 1 (perfect positive).\n",
        "\n",
        "Key differences:\n",
        "\n",
        "1. Scale: Covariance is scale-dependent, while correlation is scale-independent.\n",
        "2. Interpretation: Correlation is more intuitive and easier to interpret due to its standardized range.\n",
        "\n",
        "Both are useful:\n",
        "\n",
        "1. Covariance: Used in statistical calculations, finance, and portfolio analysis.\n",
        "2. Correlation: Used to understand relationships, predict outcomes, and identify patterns."
      ],
      "metadata": {
        "id": "x0vcAgkZej3a"
      }
    },
    {
      "cell_type": "markdown",
      "source": [
        "#24\n",
        "Real-World Applications of Statistics:\n",
        "\n",
        "1. Business and Finance:\n",
        "    - Market research and analysis\n",
        "    - Quality control and improvement\n",
        "    - Risk assessment and management\n",
        "    - Financial forecasting and modeling\n",
        "2. Healthcare and Medicine:\n",
        "    - Clinical trials and research\n",
        "    - Disease diagnosis and treatment\n",
        "    - Health policy and decision-making\n",
        "    - Medical research and development\n",
        "3. Social Sciences and Government:\n",
        "    - Demographic analysis and population studies\n",
        "    - Public policy evaluation and development\n",
        "    - Economic analysis and forecasting\n",
        "    - Social research and program evaluation\n",
        "4. Sports and Entertainment:\n",
        "    - Player and team performance analysis\n",
        "    - Fan behavior and market research\n",
        "    - Game strategy and optimization\n",
        "5. Environmental Science and Conservation:\n",
        "    - Climate modeling and forecasting\n",
        "    - Ecological research and conservation\n",
        "    - Environmental policy and decision-making\n",
        "6. Quality Control and Manufacturing:\n",
        "    - Process control and improvement\n",
        "    - Product testing and reliability analysis\n",
        "    - Supply chain management and optimization\n",
        "7. Machine Learning and Artificial Intelligence:\n",
        "    - Predictive modeling and forecasting\n",
        "    - Data mining and pattern recognition\n",
        "    - Natural language processing and text analysis\n"
      ],
      "metadata": {
        "id": "Vv6MmiDfekGH"
      }
    },
    {
      "cell_type": "markdown",
      "source": [
        "# Practicals"
      ],
      "metadata": {
        "id": "GG2V_KGweU2b"
      }
    },
    {
      "cell_type": "code",
      "source": [
        "#1\n",
        "import statistics\n",
        "\n",
        "def calculate_statistics(data):\n",
        "    mean = statistics.mean(data)\n",
        "    median = statistics.median(data)\n",
        "    mode = statistics.mode(data)\n",
        "\n",
        "    return mean, median, mode\n",
        "\n",
        "# Example dataset\n",
        "data = [1, 2, 3, 4, 4, 5, 5, 5]\n",
        "\n",
        "mean, median, mode = calculate_statistics(data)\n",
        "\n",
        "print(f\"Mean: {mean}\")\n",
        "print(f\"Median: {median}\")\n",
        "print(f\"Mode: {mode}\")"
      ],
      "metadata": {
        "colab": {
          "base_uri": "https://localhost:8080/"
        },
        "id": "aLyDjO6HeoWr",
        "outputId": "992b8000-a7c4-42be-d488-33266c7a71ac"
      },
      "execution_count": 24,
      "outputs": [
        {
          "output_type": "stream",
          "name": "stdout",
          "text": [
            "Mean: 3.625\n",
            "Median: 4.0\n",
            "Mode: 5\n"
          ]
        }
      ]
    },
    {
      "cell_type": "code",
      "source": [
        "#2\n",
        "import numpy as np\n",
        "\n",
        "def calculate_variance(data):\n",
        "    \"\"\"\n",
        "    Calculate the variance of a dataset.\n",
        "\n",
        "    Args:\n",
        "        data (list or numpy array): The dataset.\n",
        "\n",
        "    Returns:\n",
        "        float: The variance of the dataset.\n",
        "    \"\"\"\n",
        "    mean = np.mean(data)\n",
        "    variance = np.mean((data - mean) ** 2)\n",
        "    return variance\n",
        "\n",
        "def calculate_std_dev(data):\n",
        "    \"\"\"\n",
        "    Calculate the standard deviation of a dataset.\n",
        "\n",
        "    Args:\n",
        "        data (list or numpy array): The dataset.\n",
        "\n",
        "    Returns:\n",
        "        float: The standard deviation of the dataset.\n",
        "    \"\"\"\n",
        "    variance = calculate_variance(data)\n",
        "    std_dev = np.sqrt(variance)\n",
        "    return std_dev\n",
        "\n",
        "# Example usage\n",
        "data = [1, 2, 3, 4, 5]\n",
        "\n",
        "variance = calculate_variance(data)\n",
        "std_dev = calculate_std_dev(data)\n",
        "\n",
        "print(f\"Variance: {variance}\")\n",
        "print(f\"Standard Deviation: {std_dev}\")\n",
        "\n",
        "# Alternatively, use NumPy's built-in functions\n",
        "variance_np = np.var(data)\n",
        "std_dev_np = np.std(data)\n",
        "\n",
        "print(f\"Variance (NumPy): {variance_np}\")\n",
        "print(f\"Standard Deviation (NumPy): {std_dev_np}\")\n"
      ],
      "metadata": {
        "colab": {
          "base_uri": "https://localhost:8080/"
        },
        "id": "8NMYffxJer_D",
        "outputId": "bde209eb-2df2-4999-8b7b-b1dea8eca9ec"
      },
      "execution_count": 23,
      "outputs": [
        {
          "output_type": "stream",
          "name": "stdout",
          "text": [
            "Variance: 2.0\n",
            "Standard Deviation: 1.4142135623730951\n",
            "Variance (NumPy): 2.0\n",
            "Standard Deviation (NumPy): 1.4142135623730951\n"
          ]
        }
      ]
    },
    {
      "cell_type": "code",
      "source": [
        "#3\n",
        "import pandas as pd\n",
        "\n",
        "# Create a dataset\n",
        "data = {\n",
        "    'Name': ['John', 'Anna', 'Peter', 'Linda', 'Tom'],\n",
        "    'Gender': ['Male', 'Female', 'Male', 'Female', 'Male'],\n",
        "    'Age': [28, 24, 35, 32, 40],\n",
        "    'Height (cm)': [175, 160, 180, 165, 185],\n",
        "    'Rating': ['Good', 'Excellent', 'Fair', 'Good', 'Excellent'],\n",
        "    'Score': [85, 90, 78, 92, 88]\n",
        "}\n",
        "\n",
        "df = pd.DataFrame(data)\n",
        "\n",
        "# Classify data types\n",
        "nominal_data = ['Name', 'Gender']\n",
        "ordinal_data = ['Rating']\n",
        "interval_data = ['Score']\n",
        "ratio_data = ['Age', 'Height (cm)']\n",
        "\n",
        "# Print classification\n",
        "print(\"Data Classification:\")\n",
        "print(\"---------------------\")\n",
        "print(f\"Nominal Data: {nominal_data}\")\n",
        "print(f\"Ordinal Data: {ordinal_data}\")\n",
        "print(f\"Interval Data: {interval_data}\")\n",
        "print(f\"Ratio Data: {ratio_data}\")\n",
        "\n",
        "# Print data\n",
        "print(\"\\nDataset:\")\n",
        "print(df)\n",
        "\n",
        "# Validate ordinal data\n",
        "rating_order = ['Poor', 'Fair', 'Good', 'Excellent']\n",
        "df['Rating'] = pd.Categorical(df['Rating'], categories=rating_order, ordered=True)\n",
        "\n",
        "# Validate ratio data\n",
        "print(\"\\nRatio Data Statistics:\")\n",
        "print(df[['Age', 'Height (cm)']].describe())"
      ],
      "metadata": {
        "colab": {
          "base_uri": "https://localhost:8080/"
        },
        "id": "Yf_wiv0XesXl",
        "outputId": "e7999678-0f4d-472e-8fc9-73cb5ec5c249"
      },
      "execution_count": 22,
      "outputs": [
        {
          "output_type": "stream",
          "name": "stdout",
          "text": [
            "Data Classification:\n",
            "---------------------\n",
            "Nominal Data: ['Name', 'Gender']\n",
            "Ordinal Data: ['Rating']\n",
            "Interval Data: ['Score']\n",
            "Ratio Data: ['Age', 'Height (cm)']\n",
            "\n",
            "Dataset:\n",
            "    Name  Gender  Age  Height (cm)     Rating  Score\n",
            "0   John    Male   28          175       Good     85\n",
            "1   Anna  Female   24          160  Excellent     90\n",
            "2  Peter    Male   35          180       Fair     78\n",
            "3  Linda  Female   32          165       Good     92\n",
            "4    Tom    Male   40          185  Excellent     88\n",
            "\n",
            "Ratio Data Statistics:\n",
            "             Age  Height (cm)\n",
            "count   5.000000     5.000000\n",
            "mean   31.800000   173.000000\n",
            "std     6.180615    10.368221\n",
            "min    24.000000   160.000000\n",
            "25%    28.000000   165.000000\n",
            "50%    32.000000   175.000000\n",
            "75%    35.000000   180.000000\n",
            "max    40.000000   185.000000\n"
          ]
        }
      ]
    },
    {
      "cell_type": "code",
      "source": [
        "#4\n",
        "import pandas as pd\n",
        "import numpy as np\n",
        "from sklearn.model_selection import train_test_split, StratifiedShuffleSplit\n",
        "\n",
        "# Create a dataset\n",
        "np.random.seed(0)\n",
        "data = {\n",
        "    'Feature1': np.random.rand(100),\n",
        "    'Feature2': np.random.rand(100),\n",
        "    'Target': np.random.choice([0, 1], 100, p=[0.7, 0.3])\n",
        "}\n",
        "\n",
        "df = pd.DataFrame(data)\n",
        "\n",
        "# Random Sampling\n",
        "def random_sampling(df, sample_size):\n",
        "    return df.sample(n=sample_size, random_state=42)\n",
        "\n",
        "# Stratified Sampling\n",
        "def stratified_sampling(df, target_column, test_size):\n",
        "    X = df.drop(target_column, axis=1)\n",
        "    y = df[target_column]\n",
        "    sss = StratifiedShuffleSplit(n_splits=1, test_size=test_size, random_state=42)\n",
        "    for train_index, sample_index in sss.split(X, y):\n",
        "        sample_df = df.iloc[sample_index]\n",
        "    return sample_df\n",
        "\n",
        "# Implement random sampling\n",
        "random_sample = random_sampling(df, 20)\n",
        "print(\"Random Sample:\")\n",
        "print(random_sample)\n",
        "\n",
        "# Implement stratified sampling\n",
        "stratified_sample = stratified_sampling(df, 'Target', 0.2)\n",
        "print(\"\\nStratified Sample:\")\n",
        "print(stratified_sample)\n",
        "\n",
        "# Compare target variable distribution in original data and samples\n",
        "print(\"\\nTarget Variable Distribution:\")\n",
        "print(\"Original Data:\", df['Target'].value_counts(normalize=True))\n",
        "print(\"Random Sample:\", random_sample['Target'].value_counts(normalize=True))\n",
        "print(\"Stratified Sample:\", stratified_sample['Target'].value_counts(normalize=True))"
      ],
      "metadata": {
        "colab": {
          "base_uri": "https://localhost:8080/"
        },
        "id": "gzgPNAOJesbh",
        "outputId": "f1988059-7765-4220-91c7-d855624f17bd"
      },
      "execution_count": 21,
      "outputs": [
        {
          "output_type": "stream",
          "name": "stdout",
          "text": [
            "Random Sample:\n",
            "    Feature1  Feature2  Target\n",
            "83  0.692472  0.237893       0\n",
            "53  0.102045  0.615560       1\n",
            "70  0.976459  0.521037       1\n",
            "45  0.670638  0.703889       0\n",
            "44  0.666767  0.806194       1\n",
            "39  0.681820  0.431418       0\n",
            "22  0.461479  0.956084       0\n",
            "80  0.317983  0.164694       0\n",
            "10  0.791725  0.447125       1\n",
            "0   0.548814  0.677817       0\n",
            "18  0.778157  0.881735       0\n",
            "30  0.264556  0.618015       0\n",
            "73  0.604846  0.018522       1\n",
            "33  0.568434  0.298282       0\n",
            "90  0.318569  0.398221       0\n",
            "4   0.423655  0.248753       0\n",
            "76  0.282807  0.345352       1\n",
            "77  0.120197  0.928081       1\n",
            "12  0.568045  0.699479       0\n",
            "31  0.774234  0.428769       0\n",
            "\n",
            "Stratified Sample:\n",
            "    Feature1  Feature2  Target\n",
            "17  0.832620  0.581273       0\n",
            "76  0.282807  0.345352       1\n",
            "27  0.944669  0.301575       0\n",
            "28  0.521848  0.660174       1\n",
            "1   0.715189  0.270008       0\n",
            "30  0.264556  0.618015       0\n",
            "91  0.667410  0.209844       0\n",
            "54  0.208877  0.123820       1\n",
            "38  0.943748  0.652103       0\n",
            "48  0.315428  0.714241       0\n",
            "72  0.976761  0.199997       0\n",
            "58  0.466311  0.407183       1\n",
            "59  0.244426  0.069167       0\n",
            "32  0.456150  0.135474       0\n",
            "94  0.289406  0.739551       0\n",
            "69  0.096098  0.171630       0\n",
            "53  0.102045  0.615560       1\n",
            "2   0.602763  0.735194       0\n",
            "79  0.118728  0.031839       1\n",
            "87  0.093941  0.589910       0\n",
            "\n",
            "Target Variable Distribution:\n",
            "Original Data: Target\n",
            "0    0.69\n",
            "1    0.31\n",
            "Name: proportion, dtype: float64\n",
            "Random Sample: Target\n",
            "0    0.65\n",
            "1    0.35\n",
            "Name: proportion, dtype: float64\n",
            "Stratified Sample: Target\n",
            "0    0.7\n",
            "1    0.3\n",
            "Name: proportion, dtype: float64\n"
          ]
        }
      ]
    },
    {
      "cell_type": "code",
      "source": [
        "#5\n",
        "import numpy as np\n",
        "\n",
        "def calculate_range(data):\n",
        "    \"\"\"\n",
        "    Calculate the range of a dataset.\n",
        "\n",
        "    Args:\n",
        "        data (list or numpy array): The dataset.\n",
        "\n",
        "    Returns:\n",
        "        float: The range of the dataset.\n",
        "    \"\"\"\n",
        "    return np.max(data) - np.min(data)\n",
        "\n",
        "# Example usage\n",
        "data = [1, 2, 3, 4, 5, 6, 7, 8, 9]\n",
        "\n",
        "range_data = calculate_range(data)\n",
        "print(f\"Range: {range_data}\")"
      ],
      "metadata": {
        "colab": {
          "base_uri": "https://localhost:8080/"
        },
        "id": "le-_aQRgesfK",
        "outputId": "35fed069-8b57-4650-aa85-4594ecf6a5fc"
      },
      "execution_count": 20,
      "outputs": [
        {
          "output_type": "stream",
          "name": "stdout",
          "text": [
            "Range: 8\n"
          ]
        }
      ]
    },
    {
      "cell_type": "code",
      "source": [
        "#6\n",
        "import numpy as np\n",
        "import matplotlib.pyplot as plt\n",
        "from scipy import stats\n",
        "\n",
        "# Create a skewed dataset (right-skewed)\n",
        "np.random.seed(0)\n",
        "data = np.random.exponential(scale=1, size=1000)\n",
        "\n",
        "# Calculate skewness\n",
        "skewness = stats.skew(data)\n",
        "print(f\"Skewness: {skewness}\")\n",
        "\n",
        "# Plot histogram\n",
        "plt.hist(data, bins=30, alpha=0.7, color='blue', edgecolor='black')\n",
        "plt.title('Histogram of Skewed Data')\n",
        "plt.xlabel('Value')\n",
        "plt.ylabel('Frequency')\n",
        "plt.show()\n",
        "\n",
        "# Create a normal dataset for comparison\n",
        "normal_data = np.random.normal(loc=0, scale=1, size=1000)\n",
        "\n",
        "# Calculate skewness\n",
        "normal_skewness = stats.skew(normal_data)\n",
        "print(f\"Normal Skewness: {normal_skewness}\")\n",
        "\n",
        "# Plot histogram\n",
        "plt.hist(normal_data, bins=30, alpha=0.7, color='green', edgecolor='black')\n",
        "plt.title('Histogram of Normal Data')\n",
        "plt.xlabel('Value')\n",
        "plt.ylabel('Frequency')\n",
        "plt.show()"
      ],
      "metadata": {
        "colab": {
          "base_uri": "https://localhost:8080/",
          "height": 962
        },
        "id": "YNzws2lhesit",
        "outputId": "fda89ae7-52ca-4c14-b6a0-85037e9f1904"
      },
      "execution_count": 19,
      "outputs": [
        {
          "output_type": "stream",
          "name": "stdout",
          "text": [
            "Skewness: 2.0526452829685935\n"
          ]
        },
        {
          "output_type": "display_data",
          "data": {
            "text/plain": [
              "<Figure size 640x480 with 1 Axes>"
            ],
            "image/png": "[encoded data removed]"
          },
          "metadata": {}
        },
        {
          "output_type": "stream",
          "name": "stdout",
          "text": [
            "Normal Skewness: 0.09702422061936332\n"
          ]
        },
        {
          "output_type": "display_data",
          "data": {
            "text/plain": [
              "<Figure size 640x480 with 1 Axes>"
            ],
            "image/png": "[encoded data removed]"
          },
          "metadata": {}
        }
      ]
    },
    {
      "cell_type": "code",
      "source": [
        "#7\n",
        "import numpy as np\n",
        "from scipy import stats\n",
        "\n",
        "# Create a dataset\n",
        "np.random.seed(0)\n",
        "data = np.random.normal(loc=0, scale=1, size=1000)\n",
        "\n",
        "# Calculate skewness\n",
        "skewness = stats.skew(data)\n",
        "print(f\"Skewness: {skewness}\")\n",
        "\n",
        "# Calculate kurtosis\n",
        "kurtosis = stats.kurtosis(data)\n",
        "print(f\"Kurtosis: {kurtosis}\")\n",
        "\n",
        "# Fisher-Pearson standardized moment coefficient (default)\n",
        "# For excess kurtosis (kurtosis - 3), use kurtosis(data, fisher=True)"
      ],
      "metadata": {
        "colab": {
          "base_uri": "https://localhost:8080/"
        },
        "id": "CkxkIXsLeslr",
        "outputId": "b0296e63-cb71-4927-80f5-55af97bcc024"
      },
      "execution_count": 18,
      "outputs": [
        {
          "output_type": "stream",
          "name": "stdout",
          "text": [
            "Skewness: 0.03385895323565712\n",
            "Kurtosis: -0.0467663244783294\n"
          ]
        }
      ]
    },
    {
      "cell_type": "code",
      "source": [
        "#8\n",
        "import numpy as np\n",
        "import matplotlib.pyplot as plt\n",
        "from scipy import stats\n",
        "\n",
        "# Generate a right-skewed dataset (positive skewness)\n",
        "np.random.seed(0)\n",
        "right_skewed_data = np.random.exponential(scale=1, size=1000)\n",
        "\n",
        "# Calculate skewness\n",
        "right_skewness = stats.skew(right_skewed_data)\n",
        "print(f\"Right-Skewed Skewness: {right_skewness}\")\n",
        "\n",
        "# Plot histogram\n",
        "plt.hist(right_skewed_data, bins=30, alpha=0.7, color='blue', edgecolor='black')\n",
        "plt.title('Right-Skewed Distribution')\n",
        "plt.xlabel('Value')\n",
        "plt.ylabel('Frequency')\n",
        "plt.show()\n",
        "\n",
        "# Generate a left-skewed dataset (negative skewness)\n",
        "left_skewed_data = -np.random.exponential(scale=1, size=1000)\n",
        "\n",
        "# Calculate skewness\n",
        "left_skewness = stats.skew(left_skewed_data)\n",
        "print(f\"Left-Skewed Skewness: {left_skewness}\")\n",
        "\n",
        "# Plot histogram\n",
        "plt.hist(left_skewed_data, bins=30, alpha=0.7, color='red', edgecolor='black')\n",
        "plt.title('Left-Skewed Distribution')\n",
        "plt.xlabel('Value')\n",
        "plt.ylabel('Frequency')\n",
        "plt.show()"
      ],
      "metadata": {
        "colab": {
          "base_uri": "https://localhost:8080/",
          "height": 962
        },
        "id": "LLTF9uI8eso6",
        "outputId": "325d1bba-2a75-441e-8623-c30e12de4731"
      },
      "execution_count": 17,
      "outputs": [
        {
          "output_type": "stream",
          "name": "stdout",
          "text": [
            "Right-Skewed Skewness: 2.0526452829685935\n"
          ]
        },
        {
          "output_type": "display_data",
          "data": {
            "text/plain": [
              "<Figure size 640x480 with 1 Axes>"
            ],
            "image/png": "[encoded data removed]"
          },
          "metadata": {}
        },
        {
          "output_type": "stream",
          "name": "stdout",
          "text": [
            "Left-Skewed Skewness: -1.7494418645601095\n"
          ]
        },
        {
          "output_type": "display_data",
          "data": {
            "text/plain": [
              "<Figure size 640x480 with 1 Axes>"
            ],
            "image/png": "[encoded data removed]"
          },
          "metadata": {}
        }
      ]
    },
    {
      "cell_type": "code",
      "source": [
        "#9\n",
        "import numpy as np\n",
        "\n",
        "# Create two datasets\n",
        "np.random.seed(0)\n",
        "dataset1 = np.random.normal(loc=0, scale=1, size=100)\n",
        "dataset2 = np.random.normal(loc=0, scale=1, size=100)\n",
        "\n",
        "# Calculate covariance\n",
        "covariance = np.cov(dataset1, dataset2)[0, 1]\n",
        "print(f\"Covariance: {covariance}\")\n",
        "\n",
        "# Calculate covariance matrix\n",
        "cov_matrix = np.cov(dataset1, dataset2)\n",
        "print(\"\\nCovariance Matrix:\")\n",
        "print(cov_matrix)\n"
      ],
      "metadata": {
        "colab": {
          "base_uri": "https://localhost:8080/"
        },
        "id": "3g_-leAKessF",
        "outputId": "72afe720-d559-458d-d822-c4b0ac7c8b38"
      },
      "execution_count": 16,
      "outputs": [
        {
          "output_type": "stream",
          "name": "stdout",
          "text": [
            "Covariance: 0.11769062826128157\n",
            "\n",
            "Covariance Matrix:\n",
            "[[1.02608749 0.11769063]\n",
            " [0.11769063 1.08134929]]\n"
          ]
        }
      ]
    },
    {
      "cell_type": "code",
      "source": [
        "#10\n",
        "import numpy as np\n",
        "from scipy.stats import pearsonr\n",
        "\n",
        "# Generate two datasets\n",
        "np.random.seed(0)\n",
        "dataset1 = np.random.normal(loc=0, scale=1, size=100)\n",
        "dataset2 = 2 * dataset1 + np.random.normal(loc=0, scale=0.5, size=100)\n",
        "\n",
        "# Calculate correlation coefficient\n",
        "correlation_coefficient, p_value = pearsonr(dataset1, dataset2)\n",
        "\n",
        "print(f\"Correlation Coefficient: {correlation_coefficient}\")\n",
        "print(f\"P-Value: {p_value}\")\n",
        "\n",
        "# Interpretation\n",
        "if correlation_coefficient > 0:\n",
        "    print(\"Positive correlation\")\n",
        "elif correlation_coefficient < 0:\n",
        "    print(\"Negative correlation\")\n",
        "else:\n",
        "    print(\"No correlation\")\n",
        "\n",
        "# Visualize the correlation\n",
        "import matplotlib.pyplot as plt\n",
        "\n",
        "plt.scatter(dataset1, dataset2)\n",
        "plt.xlabel('Dataset 1')\n",
        "plt.ylabel('Dataset 2')\n",
        "plt.title('Correlation between two datasets')\n",
        "plt.show()\n"
      ],
      "metadata": {
        "colab": {
          "base_uri": "https://localhost:8080/",
          "height": 524
        },
        "id": "Nd_j_LUXesvK",
        "outputId": "a246b833-bec0-4926-a7bb-33b90398c983"
      },
      "execution_count": 15,
      "outputs": [
        {
          "output_type": "stream",
          "name": "stdout",
          "text": [
            "Correlation Coefficient: 0.970613932389049\n",
            "P-Value: 1.960262238681832e-62\n",
            "Positive correlation\n"
          ]
        },
        {
          "output_type": "display_data",
          "data": {
            "text/plain": [
              "<Figure size 640x480 with 1 Axes>"
            ],
            "image/png": "[encoded data removed]"
          },
          "metadata": {}
        }
      ]
    },
    {
      "cell_type": "code",
      "source": [
        "#11\n",
        "import numpy as np\n",
        "import matplotlib.pyplot as plt\n",
        "\n",
        "# Create two variables\n",
        "np.random.seed(0)\n",
        "x = np.random.normal(loc=0, scale=1, size=100)\n",
        "y = 2 * x + np.random.normal(loc=0, scale=0.5, size=100)\n",
        "\n",
        "# Create scatter plot\n",
        "plt.scatter(x, y, alpha=0.7, color='blue', edgecolor='black')\n",
        "plt.title('Scatter Plot of X vs Y')\n",
        "plt.xlabel('X')\n",
        "plt.ylabel('Y')\n",
        "plt.show()\n",
        "\n",
        "# Calculate correlation coefficient\n",
        "correlation = np.corrcoef(x, y)[0, 1]\n",
        "print(f\"Correlation Coefficient: {correlation}\")"
      ],
      "metadata": {
        "colab": {
          "base_uri": "https://localhost:8080/",
          "height": 489
        },
        "id": "1dKszRgYesyV",
        "outputId": "e4822494-3cd8-4420-fe16-09d96e92822f"
      },
      "execution_count": 14,
      "outputs": [
        {
          "output_type": "display_data",
          "data": {
            "text/plain": [
              "<Figure size 640x480 with 1 Axes>"
            ],
            "image/png": "[encoded data removed]"
          },
          "metadata": {}
        },
        {
          "output_type": "stream",
          "name": "stdout",
          "text": [
            "Correlation Coefficient: 0.9706139323890491\n"
          ]
        }
      ]
    },
    {
      "cell_type": "code",
      "source": [
        "#12\n",
        "import numpy as np\n",
        "import pandas as pd\n",
        "import matplotlib.pyplot as plt\n",
        "\n",
        "# Create a population dataset\n",
        "np.random.seed(0)\n",
        "population = np.random.normal(loc=0, scale=1, size=1000)\n",
        "\n",
        "# Simple Random Sampling\n",
        "def simple_random_sampling(population, sample_size):\n",
        "    return np.random.choice(population, size=sample_size, replace=False)\n",
        "\n",
        "# Systematic Sampling\n",
        "def systematic_sampling(population, sample_size):\n",
        "    interval = len(population) // sample_size\n",
        "    start_index = np.random.randint(0, interval)\n",
        "    return population[start_index::interval]\n",
        "\n",
        "# Implement simple random sampling\n",
        "sample_size = 100\n",
        "srs_sample = simple_random_sampling(population, sample_size)\n",
        "\n",
        "# Implement systematic sampling\n",
        "sys_sample = systematic_sampling(population, sample_size)\n",
        "\n",
        "# Calculate mean and standard deviation of samples\n",
        "srs_mean = np.mean(srs_sample)\n",
        "srs_std = np.std(srs_sample)\n",
        "sys_mean = np.mean(sys_sample)\n",
        "sys_std = np.std(sys_sample)\n",
        "\n",
        "print(\"Simple Random Sampling:\")\n",
        "print(f\"Mean: {srs_mean}, Standard Deviation: {srs_std}\")\n",
        "print(\"Systematic Sampling:\")\n",
        "print(f\"Mean: {sys_mean}, Standard Deviation: {sys_std}\")\n",
        "\n",
        "# Visualize the samples\n",
        "plt.hist(srs_sample, alpha=0.5, label='Simple Random Sampling')\n",
        "plt.hist(sys_sample, alpha=0.5, label='Systematic Sampling')\n",
        "plt.legend()\n",
        "plt.show()"
      ],
      "metadata": {
        "colab": {
          "base_uri": "https://localhost:8080/",
          "height": 499
        },
        "id": "3bIAf-70es1p",
        "outputId": "1ca9c3e4-ca9a-4f03-a820-496c4da79a35"
      },
      "execution_count": 13,
      "outputs": [
        {
          "output_type": "stream",
          "name": "stdout",
          "text": [
            "Simple Random Sampling:\n",
            "Mean: -0.18087763884037047, Standard Deviation: 1.009931995861786\n",
            "Systematic Sampling:\n",
            "Mean: -0.03336829198751782, Standard Deviation: 0.8613113829833028\n"
          ]
        },
        {
          "output_type": "display_data",
          "data": {
            "text/plain": [
              "<Figure size 640x480 with 1 Axes>"
            ],
            "image/png": "[encoded data removed]"
          },
          "metadata": {}
        }
      ]
    },
    {
      "cell_type": "code",
      "source": [
        "#13\n",
        "import numpy as np\n",
        "import pandas as pd\n",
        "\n",
        "# Create grouped data\n",
        "data = {\n",
        "    'Class': ['0-10', '10-20', '20-30', '30-40', '40-50'],\n",
        "    'Frequency': [5, 10, 15, 8, 2]\n",
        "}\n",
        "\n",
        "df = pd.DataFrame(data)\n",
        "\n",
        "# Calculate midpoints\n",
        "df['Midpoint'] = [(int(x.split('-')[0]) + int(x.split('-')[1])) / 2 for x in df['Class']]\n",
        "\n",
        "# Calculate mean\n",
        "df['Product'] = df['Midpoint'] * df['Frequency']\n",
        "mean = df['Product'].sum() / df['Frequency'].sum()\n",
        "print(f\"Mean: {mean}\")\n",
        "\n",
        "# Calculate median\n",
        "cf = df['Frequency'].cumsum()\n",
        "median_class = df.iloc[(cf >= df['Frequency'].sum() / 2).idxmax()]\n",
        "median = median_class['Midpoint'] + ((df['Frequency'].sum() / 2 - cf[median_class.name - 1]) / median_class['Frequency']) * 10\n",
        "print(f\"Median: {median}\")\n",
        "\n",
        "# Calculate mode\n",
        "mode_class = df.loc[df['Frequency'].idxmax()]\n",
        "mode = mode_class['Midpoint']\n",
        "print(f\"Mode: {mode}\")\n"
      ],
      "metadata": {
        "colab": {
          "base_uri": "https://localhost:8080/"
        },
        "id": "fyS5dw5kes4w",
        "outputId": "0c05f2fc-afea-4e3a-affd-e87e3657400e"
      },
      "execution_count": 12,
      "outputs": [
        {
          "output_type": "stream",
          "name": "stdout",
          "text": [
            "Mean: 23.0\n",
            "Median: 28.333333333333332\n",
            "Mode: 25.0\n"
          ]
        }
      ]
    },
    {
      "cell_type": "code",
      "source": [
        "#14\n",
        "import numpy as np\n",
        "\n",
        "# Simulate data\n",
        "np.random.seed(0)\n",
        "data = np.random.normal(loc=5, scale=2, size=1000)\n",
        "\n",
        "# Calculate central tendency\n",
        "mean = np.mean(data)\n",
        "median = np.median(data)\n",
        "\n",
        "# Calculate dispersion\n",
        "std_dev = np.std(data)\n",
        "variance = np.var(data)\n",
        "range_data = np.max(data) - np.min(data)\n",
        "interquartile_range = np.percentile(data, 75) - np.percentile(data, 25)\n",
        "\n",
        "print(\"Central Tendency:\")\n",
        "print(f\"Mean: {mean}\")\n",
        "print(f\"Median: {median}\")\n",
        "\n",
        "print(\"\\nDispersion:\")\n",
        "print(f\"Standard Deviation: {std_dev}\")\n",
        "print(f\"Variance: {variance}\")\n",
        "print(f\"Range: {range_data}\")\n",
        "print(f\"Interquartile Range (IQR): {interquartile_range}\")\n"
      ],
      "metadata": {
        "colab": {
          "base_uri": "https://localhost:8080/"
        },
        "id": "A5FmGZm8es8H",
        "outputId": "0e4ba747-ada9-46aa-b487-f29632ce4c75"
      },
      "execution_count": 11,
      "outputs": [
        {
          "output_type": "stream",
          "name": "stdout",
          "text": [
            "Central Tendency:\n",
            "Mean: 4.909486585019609\n",
            "Median: 4.883943930400744\n",
            "\n",
            "Dispersion:\n",
            "Standard Deviation: 1.9740663173380517\n",
            "Variance: 3.8969378252486173\n",
            "Range: 11.61099633764302\n",
            "Interquartile Range (IQR): 2.6107413224965375\n"
          ]
        }
      ]
    },
    {
      "cell_type": "code",
      "source": [
        "#15\n",
        "import numpy as np\n",
        "import pandas as pd\n",
        "\n",
        "# Create a dataset\n",
        "np.random.seed(0)\n",
        "data = np.random.normal(loc=0, scale=1, size=1000)\n",
        "\n",
        "# Convert to Pandas Series\n",
        "series = pd.Series(data)\n",
        "\n",
        "# Calculate descriptive statistics\n",
        "stats = series.describe()\n",
        "\n",
        "print(\"Descriptive Statistics:\")\n",
        "print(stats)"
      ],
      "metadata": {
        "colab": {
          "base_uri": "https://localhost:8080/"
        },
        "id": "QDhByu3TetGE",
        "outputId": "c91de85a-85f2-48f1-ec66-55c8903b37a7"
      },
      "execution_count": 10,
      "outputs": [
        {
          "output_type": "stream",
          "name": "stdout",
          "text": [
            "Descriptive Statistics:\n",
            "count    1000.000000\n",
            "mean       -0.045257\n",
            "std         0.987527\n",
            "min        -3.046143\n",
            "25%        -0.698420\n",
            "50%        -0.058028\n",
            "75%         0.606951\n",
            "max         2.759355\n",
            "dtype: float64\n"
          ]
        }
      ]
    },
    {
      "cell_type": "code",
      "source": [
        "#16\n",
        "import numpy as np\n",
        "import matplotlib.pyplot as plt\n",
        "\n",
        "# Generate data\n",
        "np.random.seed(0)\n",
        "data = np.random.normal(loc=5, scale=2, size=100)\n",
        "\n",
        "# Add some outliers\n",
        "data = np.append(data, [15, 16, -5, -6])\n",
        "\n",
        "# Plot boxplot\n",
        "plt.figure(figsize=(8, 6))\n",
        "plt.boxplot(data, vert=False)\n",
        "plt.title('Boxplot of Data')\n",
        "plt.show()"
      ],
      "metadata": {
        "colab": {
          "base_uri": "https://localhost:8080/",
          "height": 545
        },
        "id": "6UAKhlFYfCRd",
        "outputId": "5e386e6d-95d1-4334-df59-84bbdbcfe312"
      },
      "execution_count": 9,
      "outputs": [
        {
          "output_type": "display_data",
          "data": {
            "text/plain": [
              "<Figure size 800x600 with 1 Axes>"
            ],
            "image/png": "[encoded data removed]"
          },
          "metadata": {}
        }
      ]
    },
    {
      "cell_type": "code",
      "source": [
        "#17\n",
        "import numpy as np\n",
        "\n",
        "# Generate data\n",
        "np.random.seed(0)\n",
        "data = np.random.normal(loc=5, scale=2, size=100)\n",
        "\n",
        "# Calculate quartiles\n",
        "q1 = np.percentile(data, 25)\n",
        "q3 = np.percentile(data, 75)\n",
        "\n",
        "# Calculate IQR\n",
        "iqr = q3 - q1\n",
        "\n",
        "print(\"Quartiles:\")\n",
        "print(f\"Q1 (25th percentile): {q1}\")\n",
        "print(f\"Q3 (75th percentile): {q3}\")\n",
        "print(f\"Interquartile Range (IQR): {iqr}\")"
      ],
      "metadata": {
        "colab": {
          "base_uri": "https://localhost:8080/"
        },
        "id": "k8_AJLE0fCbY",
        "outputId": "fbbbe148-a69c-4d44-b6b3-a1e4bbda1a84"
      },
      "execution_count": 8,
      "outputs": [
        {
          "output_type": "stream",
          "name": "stdout",
          "text": [
            "Quartiles:\n",
            "Q1 (25th percentile): 3.712286635590579\n",
            "Q3 (75th percentile): 6.474154705839802\n",
            "Interquartile Range (IQR): 2.761868070249223\n"
          ]
        }
      ]
    },
    {
      "cell_type": "code",
      "source": [
        "#18\n",
        "import numpy as np\n",
        "\n",
        "# Generate data\n",
        "np.random.seed(0)\n",
        "data = np.random.normal(loc=5, scale=2, size=100)\n",
        "\n",
        "# Calculate mean and standard deviation\n",
        "mean = np.mean(data)\n",
        "std_dev = np.std(data)\n",
        "\n",
        "# Z-score normalization\n",
        "z_scores = (data - mean) / std_dev\n",
        "\n",
        "print(\"Original Data Statistics:\")\n",
        "print(f\"Mean: {mean}\")\n",
        "print(f\"Standard Deviation: {std_dev}\")\n",
        "\n",
        "print(\"\\nZ-Score Normalized Data Statistics:\")\n",
        "print(f\"Mean: {np.mean(z_scores)}\")\n",
        "print(f\"Standard Deviation: {np.std(z_scores)}\")"
      ],
      "metadata": {
        "colab": {
          "base_uri": "https://localhost:8080/"
        },
        "id": "Hs7755hcfClS",
        "outputId": "58726e41-1aa5-4c0a-baa1-94f540e61ba2"
      },
      "execution_count": 7,
      "outputs": [
        {
          "output_type": "stream",
          "name": "stdout",
          "text": [
            "Original Data Statistics:\n",
            "Mean: 5.11961603106897\n",
            "Standard Deviation: 2.0157644894331592\n",
            "\n",
            "Z-Score Normalized Data Statistics:\n",
            "Mean: -1.6542323066914832e-16\n",
            "Standard Deviation: 1.0\n"
          ]
        }
      ]
    },
    {
      "cell_type": "code",
      "source": [
        "#19\n",
        "import numpy as np\n",
        "import matplotlib.pyplot as plt\n",
        "\n",
        "# Generate two datasets\n",
        "np.random.seed(0)\n",
        "dataset1 = np.random.normal(loc=5, scale=1, size=100)\n",
        "dataset2 = np.random.normal(loc=5, scale=3, size=100)\n",
        "\n",
        "# Calculate standard deviations\n",
        "std_dev1 = np.std(dataset1)\n",
        "std_dev2 = np.std(dataset2)\n",
        "\n",
        "print(\"Dataset 1 Statistics:\")\n",
        "print(f\"Mean: {np.mean(dataset1)}\")\n",
        "print(f\"Standard Deviation: {std_dev1}\")\n",
        "\n",
        "print(\"\\nDataset 2 Statistics:\")\n",
        "print(f\"Mean: {np.mean(dataset2)}\")\n",
        "print(f\"Standard Deviation: {std_dev2}\")\n",
        "\n",
        "# Compare standard deviations\n",
        "if std_dev1 < std_dev2:\n",
        "    print(\"\\nDataset 1 has less variability than Dataset 2.\")\n",
        "elif std_dev1 > std_dev2:\n",
        "    print(\"\\nDataset 1 has more variability than Dataset 2.\")\n",
        "else:\n",
        "    print(\"\\nBoth datasets have the same variability.\")\n",
        "\n",
        "# Visualize the datasets\n",
        "plt.hist(dataset1, alpha=0.5, label='Dataset 1')\n",
        "plt.hist(dataset2, alpha=0.5, label='Dataset 2')\n",
        "plt.legend()\n",
        "plt.show()"
      ],
      "metadata": {
        "colab": {
          "base_uri": "https://localhost:8080/",
          "height": 586
        },
        "id": "EYaFhhOFfCvU",
        "outputId": "d403cd24-4147-413a-a018-dfa6f6a4bdf8"
      },
      "execution_count": 6,
      "outputs": [
        {
          "output_type": "stream",
          "name": "stdout",
          "text": [
            "Dataset 1 Statistics:\n",
            "Mean: 5.059808015534485\n",
            "Standard Deviation: 1.0078822447165796\n",
            "\n",
            "Dataset 2 Statistics:\n",
            "Mean: 5.246038912243511\n",
            "Standard Deviation: 3.1040009923152683\n",
            "\n",
            "Dataset 1 has less variability than Dataset 2.\n"
          ]
        },
        {
          "output_type": "display_data",
          "data": {
            "text/plain": [
              "<Figure size 640x480 with 1 Axes>"
            ],
            "image/png": "[encoded data removed]"
          },
          "metadata": {}
        }
      ]
    },
    {
      "cell_type": "code",
      "source": [
        "#20\n",
        "import numpy as np\n",
        "import matplotlib.pyplot as plt\n",
        "import seaborn as sns\n",
        "\n",
        "# Generate random data\n",
        "np.random.seed(0)\n",
        "data = np.random.multivariate_normal(mean=[0, 0, 0], cov=[[1, 0.5, 0.2], [0.5, 1, 0.3], [0.2, 0.3, 1]], size=1000)\n",
        "\n",
        "# Calculate covariance matrix\n",
        "cov_matrix = np.cov(data.T)\n",
        "\n",
        "# Create heatmap\n",
        "plt.figure(figsize=(8, 6))\n",
        "sns.heatmap(cov_matrix, annot=True, cmap='coolwarm', square=True)\n",
        "plt.title('Covariance Matrix Heatmap')\n",
        "plt.xlabel('Variables')\n",
        "plt.ylabel('Variables')\n",
        "plt.show()"
      ],
      "metadata": {
        "colab": {
          "base_uri": "https://localhost:8080/",
          "height": 564
        },
        "id": "qic-xAz2fSMe",
        "outputId": "20ed54d4-27e9-4924-8548-905515a6e3b6"
      },
      "execution_count": 5,
      "outputs": [
        {
          "output_type": "display_data",
          "data": {
            "text/plain": [
              "<Figure size 800x600 with 2 Axes>"
            ],
            "image/png": "[encoded data removed]"
          },
          "metadata": {}
        }
      ]
    },
    {
      "cell_type": "code",
      "source": [
        "#21\n",
        "import numpy as np\n",
        "import pandas as pd\n",
        "import seaborn as sns\n",
        "import matplotlib.pyplot as plt\n",
        "\n",
        "# Generate random data\n",
        "np.random.seed(0)\n",
        "data = np.random.multivariate_normal(mean=[0, 0, 0, 0], cov=[[1, 0.5, 0.2, 0.1], [0.5, 1, 0.3, 0.2], [0.2, 0.3, 1, 0.4], [0.1, 0.2, 0.4, 1]], size=1000)\n",
        "\n",
        "# Create a DataFrame\n",
        "df = pd.DataFrame(data, columns=['Var1', 'Var2', 'Var3', 'Var4'])\n",
        "\n",
        "# Calculate correlation matrix\n",
        "corr_matrix = df.corr()\n",
        "\n",
        "# Create heatmap\n",
        "plt.figure(figsize=(8, 6))\n",
        "sns.heatmap(corr_matrix, annot=True, cmap='coolwarm', square=True)\n",
        "plt.title('Correlation Matrix Heatmap')\n",
        "plt.show()\n"
      ],
      "metadata": {
        "colab": {
          "base_uri": "https://localhost:8080/",
          "height": 545
        },
        "id": "n1QgTxPXfC5t",
        "outputId": "a4ee3884-396d-4253-92ca-feff403d8160"
      },
      "execution_count": 4,
      "outputs": [
        {
          "output_type": "display_data",
          "data": {
            "text/plain": [
              "<Figure size 800x600 with 2 Axes>"
            ],
            "image/png": "[encoded data removed]"
          },
          "metadata": {}
        }
      ]
    },
    {
      "cell_type": "code",
      "source": [
        "#22\n",
        "import numpy as np\n",
        "\n",
        "# Generate a dataset\n",
        "np.random.seed(0)\n",
        "data = np.random.normal(loc=5, scale=2, size=100)\n",
        "\n",
        "# Calculate variance\n",
        "variance = np.var(data)\n",
        "\n",
        "# Calculate standard deviation\n",
        "std_dev = np.std(data)\n",
        "\n",
        "print(\"Dataset Statistics:\")\n",
        "print(f\"Mean: {np.mean(data)}\")\n",
        "print(f\"Variance: {variance}\")\n",
        "print(f\"Standard Deviation: {std_dev}\")"
      ],
      "metadata": {
        "colab": {
          "base_uri": "https://localhost:8080/"
        },
        "id": "sN41RkPkfDDc",
        "outputId": "e68577df-57fd-4102-9c86-50272396a292"
      },
      "execution_count": 3,
      "outputs": [
        {
          "output_type": "stream",
          "name": "stdout",
          "text": [
            "Dataset Statistics:\n",
            "Mean: 5.11961603106897\n",
            "Variance: 4.063306476859725\n",
            "Standard Deviation: 2.0157644894331592\n"
          ]
        }
      ]
    },
    {
      "cell_type": "code",
      "source": [
        "#23\n",
        "import numpy as np\n",
        "import matplotlib.pyplot as plt\n",
        "import seaborn as sns\n",
        "from scipy import stats\n",
        "\n",
        "# Generate skewed data\n",
        "np.random.seed(0)\n",
        "skewed_data = np.random.exponential(scale=1, size=1000)\n",
        "\n",
        "# Generate normal data\n",
        "normal_data = np.random.normal(loc=0, scale=1, size=1000)\n",
        "\n",
        "# Calculate skewness and kurtosis\n",
        "skewness_skewed = stats.skew(skewed_data)\n",
        "kurtosis_skewed = stats.kurtosis(skewed_data)\n",
        "skewness_normal = stats.skew(normal_data)\n",
        "kurtosis_normal = stats.kurtosis(normal_data)\n",
        "\n",
        "print(\"Skewed Data:\")\n",
        "print(f\"Skewness: {skewness_skewed}\")\n",
        "print(f\"Kurtosis: {kurtosis_skewed}\")\n",
        "\n",
        "print(\"\\nNormal Data:\")\n",
        "print(f\"Skewness: {skewness_normal}\")\n",
        "print(f\"Kurtosis: {kurtosis_normal}\")\n",
        "\n",
        "# Visualize the data\n",
        "plt.figure(figsize=(12, 6))\n",
        "\n",
        "plt.subplot(1, 2, 1)\n",
        "sns.histplot(skewed_data, kde=True)\n",
        "plt.title('Skewed Data')\n",
        "\n",
        "plt.subplot(1, 2, 2)\n",
        "sns.histplot(normal_data, kde=True)\n",
        "plt.title('Normal Data')\n",
        "\n",
        "plt.tight_layout()\n",
        "plt.show()\n"
      ],
      "metadata": {
        "colab": {
          "base_uri": "https://localhost:8080/",
          "height": 605
        },
        "id": "opnfGh6jfDOy",
        "outputId": "b656da98-3813-4953-dc8e-f57e5ebd0338"
      },
      "execution_count": 2,
      "outputs": [
        {
          "output_type": "stream",
          "name": "stdout",
          "text": [
            "Skewed Data:\n",
            "Skewness: 2.0526452829685935\n",
            "Kurtosis: 6.476140290441888\n",
            "\n",
            "Normal Data:\n",
            "Skewness: 0.09702422061936332\n",
            "Kurtosis: -0.04257128265638288\n"
          ]
        },
        {
          "output_type": "display_data",
          "data": {
            "text/plain": [
              "<Figure size 1200x600 with 2 Axes>"
            ],
            "image/png": "[encoded data removed]"
          },
          "metadata": {}
        }
      ]
    },
    {
      "cell_type": "code",
      "source": [
        "#24\n",
        "import numpy as np\n",
        "from scipy import stats\n",
        "import matplotlib.pyplot as plt\n",
        "\n",
        "# Generate random data\n",
        "np.random.seed(0)\n",
        "x = np.random.normal(loc=0, scale=1, size=100)\n",
        "y = 2 * x + np.random.normal(loc=0, scale=0.5, size=100)\n",
        "\n",
        "# Calculate Pearson correlation coefficient\n",
        "pearson_corr, pearson_p = stats.pearsonr(x, y)\n",
        "print(f\"Pearson Correlation Coefficient: {pearson_corr}\")\n",
        "print(f\"Pearson p-value: {pearson_p}\")\n",
        "\n",
        "# Calculate Spearman correlation coefficient\n",
        "spearman_corr, spearman_p = stats.spearmanr(x, y)\n",
        "print(f\"Spearman Correlation Coefficient: {spearman_corr}\")\n",
        "print(f\"Spearman p-value: {spearman_p}\")\n",
        "\n",
        "# Visualize the data\n",
        "plt.scatter(x, y)\n",
        "plt.xlabel('X')\n",
        "plt.ylabel('Y')\n",
        "plt.title('Scatter Plot of X vs Y')\n",
        "plt.show()\n"
      ],
      "metadata": {
        "colab": {
          "base_uri": "https://localhost:8080/",
          "height": 541
        },
        "id": "tgEzhGmVfDaT",
        "outputId": "efe3113f-d831-4175-f114-7ac0b89bd6a5"
      },
      "execution_count": 1,
      "outputs": [
        {
          "output_type": "stream",
          "name": "stdout",
          "text": [
            "Pearson Correlation Coefficient: 0.970613932389049\n",
            "Pearson p-value: 1.960262238681832e-62\n",
            "Spearman Correlation Coefficient: 0.9578397839783978\n",
            "Spearman p-value: 6.931947424316985e-55\n"
          ]
        },
        {
          "output_type": "display_data",
          "data": {
            "text/plain": [
              "<Figure size 640x480 with 1 Axes>"
            ],
            "image/png": "[encoded data removed]"
          },
          "metadata": {}
        }
      ]
    }
  ]
}