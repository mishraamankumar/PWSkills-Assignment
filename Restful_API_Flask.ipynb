{
  "cells": [
    {
      "cell_type": "code",
      "execution_count": null,
      "metadata": {
        "id": "os_8Sh41xuyf"
      },
      "outputs": [],
      "source": []
    },
    {
      "cell_type": "markdown",
      "metadata": {
        "id": "3MBBEQYCx6Pz"
      },
      "source": [
        "# Theory Solutions"
      ]
    },
    {
      "cell_type": "markdown",
      "metadata": {
        "id": "xcUlwqEcyGKr"
      },
      "source": [
        "#1\n",
        "A RESTful API (Application Programming Interface) is an architectural style for designing networked applications. It is based on the idea of resources, which are identified by URIs, and can be manipulated using a fixed set of operations.\n",
        "\n",
        "Key Characteristics:\n",
        "\n",
        "- Resource-based: RESTful APIs are centered around resources, which are identified by URIs.\n",
        "- Client-server architecture: The client and server are separate, with the client making requests to the server to access or modify resources.\n",
        "- Stateless: The server does not maintain any information about the client state.\n",
        "- Cacheable: Responses from the server can be cached by the client to reduce the number of requests.\n",
        "- Uniform interface: A uniform interface is used to communicate between client and server, which includes HTTP methods (GET, POST, PUT, DELETE), URI syntax, and standard HTTP status codes."
      ]
    },
    {
      "cell_type": "markdown",
      "metadata": {
        "id": "LqXUIOxLyGc9"
      },
      "source": [
        "#2\n",
        "An API specification is a document that describes the functionality, structure, and usage of an Application Programming Interface (API). It provides a clear and concise description of the API's endpoints, methods, parameters, and responses.\n",
        "\n",
        "Key Components:\n",
        "\n",
        "- Endpoints: The API's endpoints are the URLs that clients can use to access specific resources or perform specific actions.\n",
        "- Methods: The HTTP methods (e.g., GET, POST, PUT, DELETE) that can be used to interact with the API's endpoints.\n",
        "- Parameters: The input parameters that can be passed to the API's endpoints, including query parameters, path parameters, and body parameters.\n",
        "- Responses: The expected responses from the API, including the HTTP status codes, response headers, and response bodies.\n",
        "\n",
        "Benefits:\n",
        "\n",
        "- Clear documentation: An API specification provides clear and concise documentation for developers, making it easier for them to understand and use the API.\n",
        "- Improved collaboration: An API specification can be shared among team members and stakeholders, ensuring that everyone is on the same page regarding the API's functionality and usage.\n",
        "- Automated testing: An API specification can be used to generate automated tests, ensuring that the API is functioning correctly and catching any regressions.\n",
        "- Code generation: An API specification can be used to generate client code in various programming languages, making it easier for developers to integrate with the API."
      ]
    },
    {
      "cell_type": "markdown",
      "metadata": {
        "id": "eMnKAzZ6yGtg"
      },
      "source": [
        "#3\n",
        "Flask is a micro web framework for Python that is widely used for building web applications and APIs. It is known for its lightweight, flexible, and modular design.\n",
        "\n",
        "Key Features:\n",
        "\n",
        "- Micro framework: Flask is a micro framework, meaning it is lightweight and does not include many of the features that are built into larger frameworks like Django.\n",
        "- Modular design: Flask has a modular design, making it easy to extend and customize.\n",
        "- Flexible: Flask is flexible and can be used for building a wide range of web applications and APIs.\n",
        "- Extensive libraries: Flask has an extensive collection of libraries and extensions that can be used to add additional functionality.\n"
      ]
    },
    {
      "cell_type": "markdown",
      "metadata": {
        "id": "Ugpb31jayG36"
      },
      "source": [
        "#4\n",
        "Routing in Flask is the process of mapping URLs to specific application endpoints. It allows developers to define routes for their application, which determine how the application responds to different URL requests.\n",
        "\n",
        "Key Concepts:\n",
        "\n",
        "- Route: A route is a mapping between a URL and a specific function in the application.\n",
        "- Route decorator: Flask uses decorators to define routes. The @app.route() decorator is used to associate a function with a particular URL.\n",
        "- URL rule: A URL rule is a string that defines the pattern for a route.\n"
      ]
    },
    {
      "cell_type": "markdown",
      "metadata": {
        "id": "yFsANQEyyHAZ"
      },
      "source": [
        "#5\n",
        "Step 1: Install Flask\n",
        "To create a Flask application, you'll need to install Flask. You can do this using pip:\n",
        "\n",
        "\n",
        "bash\n",
        "pip install flask\n",
        "\n",
        "\n",
        "Step 2: Create a New Flask Application\n",
        "Create a new Python file for your Flask application, e.g., app.py. Then, import Flask and create a new instance of the Flask class:\n",
        "\n",
        "\n",
        "from flask import Flask\n",
        "app = Flask(__name__)\n",
        "\n",
        "\n",
        "Step 3: Define Routes\n",
        "Define routes for your application using the @app.route() decorator. For example:\n",
        "\n",
        "\n",
        "@app.route('/')\n",
        "def home():\n",
        "    return 'Welcome to the home page'\n",
        "\n",
        "\n",
        "Step 4: Run the Application\n",
        "To run the application, use the app.run() method:\n",
        "\n",
        "\n",
        "if __name__ == '__main__':\n",
        "    app.run()\n",
        "\n",
        "\n",
        "Full Code\n",
        "Here's the full code for a simple Flask application:\n",
        "\n",
        "\n",
        "from flask import Flask\n",
        "app = Flask(__name__)\n",
        "\n",
        "@app.route('/')\n",
        "def home():\n",
        "    return 'Welcome to the home page'\n",
        "\n",
        "if __name__ == '__main__':\n",
        "    app.run()\n",
        "\n",
        "\n",
        "Running the Application\n",
        "To run the application, save the code in a file (e.g., app.py) and execute it using Python:\n",
        "\n",
        "\n",
        "bash\n",
        "python app.py\n",
        "\n"
      ]
    },
    {
      "cell_type": "markdown",
      "metadata": {
        "id": "kpPRsi6XyHIW"
      },
      "source": [
        "#6\n",
        "HTTP methods are used in RESTful APIs to define the actions that can be performed on resources. The most common HTTP methods used in RESTful APIs are:\n",
        "\n",
        "1. GET\n",
        "- Purpose: Retrieve a resource\n",
        "- Example: GET /users to retrieve a list of users\n",
        "- Idempotent: Yes (multiple GET requests will return the same result)\n",
        "\n",
        "2. POST\n",
        "- Purpose: Create a new resource\n",
        "- Example: POST /users to create a new user\n",
        "- Idempotent: No (multiple POST requests can create multiple resources)\n",
        "\n",
        "3. PUT\n",
        "- Purpose: Update an existing resource\n",
        "- Example: PUT /users/123 to update user 123\n",
        "- Idempotent: Yes (multiple PUT requests will have the same effect)\n",
        "\n",
        "4. DELETE\n",
        "- Purpose: Delete a resource\n",
        "- Example: DELETE /users/123 to delete user 123\n",
        "- Idempotent: Yes (multiple DELETE requests will have the same effect)\n",
        "\n",
        "5. PATCH\n",
        "- Purpose: Partially update an existing resource\n",
        "- Example: PATCH /users/123 to update specific fields of user 123\n",
        "- Idempotent: No (multiple PATCH requests can have different effects)\n",
        "\n",
        "Best Practices:\n",
        "\n",
        "- Use the correct HTTP method for the action being performed.\n",
        "- Ensure that the API is designed to handle the HTTP methods correctly.\n",
        "- Use HTTP status codes to indicate the result of the request."
      ]
    },
    {
      "cell_type": "markdown",
      "metadata": {
        "id": "d8qgTxeEyHPi"
      },
      "source": [
        "#7\n",
        "The @app.route() decorator in Flask is used to associate a function with a particular URL. It maps URLs to specific application endpoints, allowing the application to respond to different URL requests.\n",
        "\n",
        "Key Features:\n",
        "\n",
        "- URL mapping: The @app.route() decorator maps URLs to specific functions in the application.\n",
        "- Route definition: The decorator defines a route for the application, specifying the URL and the function that will handle requests to that URL.\n",
        "\n"
      ]
    },
    {
      "cell_type": "markdown",
      "metadata": {
        "id": "AJOtZFGwyHVP"
      },
      "source": [
        "#8\n",
        "The GET and POST HTTP methods are two of the most commonly used methods in HTTP requests. While both methods can be used to send data to a server, there are key differences between them.\n",
        "\n",
        "GET Method:\n",
        "\n",
        "- Purpose: Retrieve data from a server\n",
        "- Data transmission: Data is sent in the URL as query parameters\n",
        "- Cacheable: Yes, GET requests are cacheable by browsers and proxies\n",
        "- Idempotent: Yes, multiple GET requests will return the same result\n",
        "- Use cases: Retrieving data, fetching resources, searching\n",
        "\n",
        "POST Method:\n",
        "\n",
        "- Purpose: Send data to a server to create or update a resource\n",
        "- Data transmission: Data is sent in the request body\n",
        "- Cacheable: No, POST requests are not cacheable by default\n",
        "- Idempotent: No, multiple POST requests can create multiple resources\n",
        "- Use cases: Creating new resources, updating existing resources, sending forms\n",
        "\n",
        "Key differences:\n",
        "\n",
        "- Data transmission: GET sends data in the URL, while POST sends data in the request body.\n",
        "- Cacheability: GET requests are cacheable, while POST requests are not cacheable by default.\n",
        "- Idempotence: GET requests are idempotent, while POST requests are not.\n"
      ]
    },
    {
      "cell_type": "markdown",
      "metadata": {
        "id": "iBibtCvfyHZS"
      },
      "source": [
        "#9\n",
        "Error handling is an essential aspect of building robust and reliable Flask APIs. Here's how to handle errors in Flask APIs:\n",
        "\n",
        "Using Try-Except Blocks\n",
        "You can use try-except blocks to catch and handle exceptions in your Flask API."
      ]
    },
    {
      "cell_type": "markdown",
      "metadata": {
        "id": "inCgDduvyHct"
      },
      "source": [
        "#10\n",
        "To connect Flask to a SQL database, you'll need to use a SQLAlchemy or Flask-SQLAlchemy extension\n"
      ]
    },
    {
      "cell_type": "markdown",
      "metadata": {
        "id": "4v6PZyaoyHgi"
      },
      "source": [
        "#11\n",
        "Flask-SQLAlchemy is an extension for Flask that adds support for SQLAlchemy, a popular Object-Relational Mapping (ORM) tool for Python. The role of Flask-SQLAlchemy is to:\n",
        "\n",
        "Key Features:\n",
        "- Database Abstraction: Flask-SQLAlchemy provides a high-level interface for interacting with databases, abstracting away the underlying database engine.\n",
        "- ORM Functionality: It allows you to define models as Python classes, which are then mapped to database tables.\n",
        "- Querying and CRUD Operations: Flask-SQLAlchemy provides a powerful querying system and supports CRUD (Create, Read, Update, Delete) operations.\n",
        "- Database Migration: It supports database migration tools like Alembic, making it easier to manage changes to your database schema.\n",
        "\n",
        "Benefits:\n",
        "- Simplified Database Interaction: Flask-SQLAlchemy simplifies database interaction by providing a Pythonic interface for working with databases.\n",
        "- Database Portability: It allows you to switch between different database engines with minimal changes to your code.\n",
        "- Improved Productivity: By abstracting away the underlying database complexity, Flask-SQLAlchemy enables developers to focus on building their application."
      ]
    },
    {
      "cell_type": "markdown",
      "metadata": {
        "id": "w3l9GVGjyHnz"
      },
      "source": [
        "#12\n",
        "Flask blueprints are a way to organize and structure Flask applications into smaller, reusable components. They provide a flexible and modular way to build Flask applications.\n",
        "\n",
        "Key Features:\n",
        "- Modular structure: Blueprints allow you to break down your application into smaller, independent modules.\n",
        "- Reusable components: Blueprints can be reused across multiple applications, making it easier to share code and functionality.\n",
        "- Route registration: Blueprints provide a way to register routes and other application functions in a modular way.\n",
        "\n",
        "Benefits:\n",
        "- Improved organization: Blueprints help to keep your application code organized and easy to maintain.\n",
        "- Reusability: Blueprints enable code reuse across multiple applications, reducing duplication and improving productivity.\n",
        "- Flexibility: Blueprints provide a flexible way to structure your application, making it easier to adapt to changing requirements.\n",
        "\n",
        "Use Cases:\n",
        "- Large applications: Blueprints are particularly useful for large applications, where modularity and organization are crucial.\n",
        "- Reusable components: Blueprints can be used to create reusable components, such as authentication or API modules, that can be shared across multiple applications.\n",
        "- API development: Blueprints can be used to build RESTful APIs, making it easier to organize and structure API endpoints.\n"
      ]
    },
    {
      "cell_type": "markdown",
      "metadata": {
        "id": "0_vlqSKJyfrh"
      },
      "source": [
        "#13\n",
        "The request object in Flask is an instance of the Request class, which provides access to the incoming HTTP request data. Its purpose is to:\n",
        "\n",
        "Key Features:\n",
        "- Accessing request data: The request object allows you to access various aspects of the incoming request, such as:\n",
        "    - URL and path: request.url and request.path\n",
        "    - HTTP method: request.method\n",
        "    - Headers: request.headers\n",
        "    - Query parameters: request.args\n",
        "    - Form data: request.form\n",
        "    - JSON data: request.get_json()\n",
        "- Handling file uploads: The request object provides access to uploaded files through request.files.\n",
        "\n",
        "Benefits:\n",
        "- Easy access to request data: The request object provides a simple and intuitive way to access request data.\n",
        "- Flexible handling of request data: It allows you to handle different types of request data, such as form data, JSON data, and file uploads.\n",
        "\n",
        "Use Cases:\n",
        "- Handling form submissions: Use the request object to access form data submitted by the user.\n",
        "- API development: Use the request object to access JSON data sent in API requests.\n",
        "- File uploads: Use the request object to handle file uploads.\n",
        "\n"
      ]
    },
    {
      "cell_type": "code",
      "source": [
        "#14\n",
        "from flask import Flask, jsonify, request\n",
        "\n",
        "app = Flask(__name__)\n",
        "\n",
        "# Sample in-memory data store\n",
        "books = [\n",
        "    {'id': 1, 'title': 'Book 1', 'author': 'Author 1'},\n",
        "    {'id': 2, 'title': 'Book 2', 'author': 'Author 2'}\n",
        "]\n",
        "\n",
        "# GET endpoint to retrieve all books\n",
        "@app.route('/books', methods=['GET'])\n",
        "def get_books():\n",
        "    return jsonify({'books': books})\n",
        "\n",
        "# GET endpoint to retrieve a single book by ID\n",
        "@app.route('/books/<int:book_id>', methods=['GET'])\n",
        "def get_book(book_id):\n",
        "    book = next((book for book in books if book['id'] == book_id), None)\n",
        "    if book is None:\n",
        "        return jsonify({'error': 'Book not found'}), 404\n",
        "    return jsonify({'book': book})\n",
        "\n",
        "# POST endpoint to create a new book\n",
        "@app.route('/books', methods=['POST'])\n",
        "def create_book():\n",
        "    new_book = {\n",
        "        'id': len(books) + 1,\n",
        "        'title': request.json['title'],\n",
        "        'author': request.json['author']\n",
        "    }\n",
        "    books.append(new_book)\n",
        "    return jsonify({'book': new_book}), 201\n",
        "\n",
        "# PUT endpoint to update an existing book\n",
        "@app.route('/books/<int:book_id>', methods=['PUT'])\n",
        "def update_book(book_id):\n",
        "    book = next((book for book in books if book['id'] == book_id), None)\n",
        "    if book is None:\n",
        "        return jsonify({'error': 'Book not found'}), 404\n",
        "    book['title'] = request.json.get('title', book['title'])\n",
        "    book['author'] = request.json.get('author', book['author'])\n",
        "    return jsonify({'book': book})\n",
        "\n",
        "# DELETE endpoint to delete a book\n",
        "@app.route('/books/<int:book_id>', methods=['DELETE'])\n",
        "def delete_book(book_id):\n",
        "    book = next((book for book in books if book['id'] == book_id), None)\n",
        "    if book is None:\n",
        "        return jsonify({'error': 'Book not found'}), 404\n",
        "    books.remove(book)\n",
        "    return jsonify({'message': 'Book deleted'})\n",
        "\n",
        "if __name__ == '__main__':\n",
        "    app.run(debug=True)\n"
      ],
      "metadata": {
        "id": "cVOeNhTCnTL0"
      },
      "execution_count": null,
      "outputs": []
    },
    {
      "cell_type": "markdown",
      "metadata": {
        "id": "tYxTieTVygA4"
      },
      "source": [
        "#15\n",
        "\n",
        "The jsonify() function in Flask is used to generate a JSON response from a Python object. Its purpose is to:\n",
        "\n",
        "Key Features:\n",
        "- Convert Python objects to JSON: jsonify() converts Python objects, such as dictionaries and lists, into JSON format.\n",
        "- Set the Content-Type header: It sets the Content-Type header of the response to application/json, indicating that the response body contains JSON data.\n",
        "\n",
        "Benefits:\n",
        "- Easy JSON response generation: jsonify() provides a simple way to generate JSON responses from Python objects.\n",
        "- Proper Content-Type header: It ensures that the Content-Type header is set correctly, allowing clients to parse the JSON response correctly.\n",
        "\n",
        "Use Cases:\n",
        "- API development: Use jsonify() to generate JSON responses in API endpoints.\n",
        "- Returning data: Use jsonify() to return data in JSON format from a view function."
      ]
    },
    {
      "cell_type": "markdown",
      "metadata": {
        "id": "QJJcvlB0ygYp"
      },
      "source": [
        "#16\n",
        "The url_for() function in Flask is used to generate URLs for routes in an application. Its purpose is to:\n",
        "\n",
        "Key Features:\n",
        "- Generate URLs: url_for() generates URLs for routes based on the endpoint name and any parameters required by the route.\n",
        "- Handle URL building: It handles URL building, including adding query parameters and handling URL prefixes.\n",
        "\n",
        "Benefits:\n",
        "- Flexible URL generation: url_for() provides a flexible way to generate URLs for routes, making it easier to manage URLs in an application.\n",
        "- Avoid hardcoding URLs: It helps avoid hardcoding URLs in templates and code, making it easier to maintain and update URLs.\n",
        "\n",
        "Use Cases:\n",
        "- Generating URLs in templates: Use url_for() in templates to generate URLs for links and other elements.\n",
        "- Redirecting to routes: Use url_for() to generate URLs for redirects.\n"
      ]
    },
    {
      "cell_type": "markdown",
      "metadata": {
        "id": "vzqLMhpxygn2"
      },
      "source": [
        "#17\n",
        "Flask provides built-in support for serving static files, such as CSS, JavaScript, and images. Here's how Flask handles static files:\n",
        "\n",
        "Static Folder\n",
        "- Default location: Flask looks for a folder named static in the root path of the application.\n",
        "- Serving static files: Files in the static folder are served automatically by Flask.\n",
        "\n",
        "url_for() Function\n",
        "- Generating URLs: Use the url_for() function to generate URLs for static files.\n",
        "- Example: url_for('static', filename='css/style.css')"
      ]
    },
    {
      "cell_type": "markdown",
      "metadata": {
        "id": "jxwj8yt_ygwv"
      },
      "source": [
        "#18\n",
        "An API specification is a document that describes the functionality, structure, and usage of an Application Programming Interface (API). It provides a clear and concise description of the API's endpoints, methods, parameters, and responses.\n",
        "\n",
        "Benefits:\n",
        "- Clear documentation: An API specification serves as documentation for developers, making it easier to understand and use the API.\n",
        "- Consistency: It ensures consistency in API design and implementation, reducing errors and misunderstandings.\n",
        "- Client development: An API specification can be used to generate client code in various programming languages, making it easier to integrate with the API.\n",
        "\n",
        "API Specification Formats:\n",
        "- OpenAPI (Swagger): A popular format for API specifications, widely adopted by the industry.\n",
        "- API Blueprint: Another format for API specifications, known for its simplicity and ease of use.\n",
        "\n",
        "Building a Flask API with an API Specification:\n",
        "1. Design the API: Use an API specification format like OpenAPI to design the API, defining endpoints, methods, parameters, and responses.\n",
        "2. Implement the API: Implement the API using Flask, following the design defined in the API specification.\n",
        "3. Validate the API: Use tools like Swagger UI or API Blueprint's documentation generator to validate the API and ensure it conforms to the specification.\n"
      ]
    },
    {
      "cell_type": "markdown",
      "metadata": {
        "id": "X8C7ujY-yg48"
      },
      "source": [
        "#19\n",
        "HTTP status codes are three-digit numbers that are used to indicate the result of an HTTP request. They are an essential part of the HTTP protocol and are used to communicate the outcome of a request between the client and server.\n",
        "\n",
        "Types of HTTP Status Codes:\n",
        "- 1xx: Informational: These status codes indicate that the request was received and is being processed.\n",
        "- 2xx: Success: These status codes indicate that the request was successful and the response body contains the requested data.\n",
        "- 3xx: Redirection: These status codes indicate that the client needs to take additional action to complete the request.\n",
        "- 4xx: Client Error: These status codes indicate that there was an error on the client side, such as a bad request or unauthorized access.\n",
        "- 5xx: Server Error: These status codes indicate that there was an error on the server side, such as a internal server error or service unavailable.\n",
        "\n",
        "Common HTTP Status Codes:\n",
        "- 200 OK: The request was successful and the response body contains the requested data.\n",
        "- 201 Created: The request was successful and a new resource was created.\n",
        "- 400 Bad Request: The request was invalid or cannot be processed.\n",
        "- 401 Unauthorized: The client is not authenticated or does not have permission to access the requested resource.\n",
        "- 404 Not Found: The requested resource was not found.\n",
        "- 500 Internal Server Error: There was an internal server error.\n",
        "\n",
        "Importance in Flask API:\n",
        "- Indicating request outcome: HTTP status codes provide a way to indicate the outcome of a request and help clients understand the result.\n",
        "- Error handling: HTTP status codes can be used to handle errors and exceptions in an API, providing a way to communicate error information to clients.\n",
        "- API documentation: HTTP status codes are an essential part of API documentation, helping developers understand the expected behavior of an API.\n",
        "\n",
        "Using HTTP Status Codes in Flask:\n",
        "- Returning status codes: Use the return statement with a tuple containing the response data and status code to return a specific HTTP status code.\n",
        "- Example: return jsonify({'error': 'Not found'}), 404"
      ]
    },
    {
      "cell_type": "markdown",
      "metadata": {
        "id": "DeXPGp81yhDA"
      },
      "source": [
        "#20\n",
        "To handle POST requests in Flask, you can use the @app.route() decorator with the methods parameter set to ['POST']. Here's an example:\n",
        "\n",
        "\n",
        "from flask import Flask, request, jsonify\n",
        "\n",
        "app = Flask(__name__)\n",
        "\n",
        "@app.route('/submit', methods=['POST'])\n",
        "def handle_submit():\n",
        "    data = request.get_json()\n",
        "    # Process the data\n",
        "    return jsonify({'message': 'Data received successfully'})\n",
        "\n",
        "if __name__ == '__main__':\n",
        "    app.run(debug=True)\n",
        "\n",
        "\n",
        "Key Features:\n",
        "- request.get_json(): Use request.get_json() to parse JSON data sent in the request body.\n",
        "- request.form: Use request.form to access form data sent in the request body.\n"
      ]
    },
    {
      "cell_type": "markdown",
      "metadata": {
        "id": "xH_bAGHbyhLj"
      },
      "source": [
        "#21\n",
        "Securing a Flask API involves implementing various measures to protect it from unauthorized access, data breaches, and other security threats. Here are some ways to secure a Flask API:\n",
        "\n",
        "Authentication and Authorization:\n",
        "- Use authentication mechanisms: Implement authentication mechanisms such as JSON Web Tokens (JWT), OAuth, or Basic Auth to verify the identity of users.\n",
        "- Use authorization: Implement authorization mechanisms to control access to resources based on user roles or permissions.\n",
        "\n",
        "Data Encryption:\n",
        "- Use HTTPS: Use HTTPS (SSL/TLS) to encrypt data transmitted between the client and server.\n",
        "- Encrypt sensitive data: Encrypt sensitive data such as passwords, credit card numbers, and personal identifiable information.\n",
        "\n",
        "Input Validation and Sanitization:\n",
        "- Validate user input: Validate user input to prevent SQL injection, cross-site scripting (XSS), and other attacks.\n",
        "- Sanitize user input: Sanitize user input to remove any malicious characters or code.\n",
        "\n",
        "Rate Limiting:\n",
        "- Implement rate limiting: Implement rate limiting to prevent brute-force attacks and denial-of-service (DoS) attacks.\n",
        "\n",
        "Error Handling:\n",
        "- Handle errors properly: Handle errors properly to prevent information disclosure and ensure that the API remains stable.\n",
        "\n",
        "Security Headers:\n",
        "- Use security headers: Use security headers such as Content-Security-Policy, X-Frame-Options, and X-XSS-Protection to protect against various attacks.\n"
      ]
    },
    {
      "cell_type": "markdown",
      "metadata": {
        "id": "r4hTtJuPyhUw"
      },
      "source": [
        "#22\n",
        "Flask-RESTful Extension\n",
        "\n",
        "Flask-RESTful is a popular extension for Flask that simplifies the process of building RESTful APIs. Its significance lies in:\n",
        "\n",
        "Key Features:\n",
        "- Resource-based routing: Flask-RESTful provides a resource-based routing system, making it easier to define API endpoints.\n",
        "- Request and response handling: It provides built-in support for handling requests and responses, including parsing JSON data and setting HTTP status codes.\n",
        "- Error handling: Flask-RESTful provides a built-in error handling system, making it easier to handle exceptions and errors in API endpoints.\n",
        "\n",
        "Benefits:\n",
        "- Simplified API development: Flask-RESTful simplifies the process of building RESTful APIs, reducing the amount of code needed to define API endpoints.\n",
        "- Improved code organization: It promotes better code organization by providing a structured way to define API endpoints and handle requests and responses.\n",
        "- Faster development: Flask-RESTful enables faster development of RESTful APIs by providing a set of pre-built features and tools.\n"
      ]
    },
    {
      "cell_type": "markdown",
      "metadata": {
        "id": "AG-Yjoj2yhds"
      },
      "source": [
        "#23\n",
        "Flask's session object is a way to store data across multiple requests from the same client. Its role is to:\n",
        "\n",
        "Key Features:\n",
        "- Store data: Store data in a secure and tamper-proof way, using a secret key to sign the session cookie.\n",
        "- Client-specific data: Store data that is specific to a client, such as user preferences or authentication information.\n",
        "- Request-to-request persistence: Persist data across multiple requests from the same client.\n",
        "\n",
        "Benefits:\n",
        "- User authentication: Use sessions to store user authentication information, such as user IDs or login status.\n",
        "- Shopping carts: Use sessions to store shopping cart contents, allowing users to add and remove items across multiple requests.\n",
        "- User preferences: Use sessions to store user preferences, such as language or layout settings."
      ]
    },
    {
      "cell_type": "markdown",
      "metadata": {
        "id": "djZrJ_jBx_Ig"
      },
      "source": [
        "# Practical solutions\n"
      ]
    },
    {
      "cell_type": "code",
      "execution_count": null,
      "metadata": {
        "colab": {
          "background_save": true,
          "base_uri": "https://localhost:8080/"
        },
        "id": "ayaQSAxYy5ud",
        "outputId": "4528a6a3-7e5b-4f42-a7ca-1a1cb030a404"
      },
      "outputs": [
        {
          "name": "stdout",
          "output_type": "stream",
          "text": [
            " * Serving Flask app '__main__'\n",
            " * Debug mode: off\n"
          ]
        },
        {
          "name": "stderr",
          "output_type": "stream",
          "text": [
            "INFO:werkzeug:\u001b[31m\u001b[1mWARNING: This is a development server. Do not use it in a production deployment. Use a production WSGI server instead.\u001b[0m\n",
            " * Running on http://127.0.0.1:5000\n",
            "INFO:werkzeug:\u001b[33mPress CTRL+C to quit\u001b[0m\n"
          ]
        }
      ],
      "source": [
        "#1\n",
        "from flask import Flask\n",
        "\n",
        "app = Flask(__name__)\n",
        "\n",
        "@app.route('/')\n",
        "def home():\n",
        "    return 'Hello, World!'\n",
        "\n",
        "if __name__ == '__main__':\n",
        "    app.run()"
      ]
    },
    {
      "cell_type": "code",
      "execution_count": null,
      "metadata": {
        "id": "nB-pjcrly6YE"
      },
      "outputs": [],
      "source": [
        "#2\n",
        "from flask import Flask, url_for\n",
        "\n",
        "app = Flask(__name__)\n",
        "\n",
        "@app.route('/')\n",
        "def index():\n",
        "    image_url = url_for('static', filename='image.jpg')\n",
        "    return f'<img src=\"{image_url}\">'\n",
        "\n",
        "if __name__ == '__main__':\n",
        "    app.run(debug=True)\n"
      ]
    },
    {
      "cell_type": "code",
      "execution_count": null,
      "metadata": {
        "id": "ptbBFCeqy6tG"
      },
      "outputs": [],
      "source": [
        "#3\n",
        "from flask import Flask, request, jsonify\n",
        "\n",
        "app = Flask(__name__)\n",
        "\n",
        "@app.route('/users', methods=['GET'])\n",
        "def get_users():\n",
        "    # Return a list of users\n",
        "    return jsonify({'users': []})\n",
        "\n",
        "@app.route('/users', methods=['POST'])\n",
        "def create_user():\n",
        "    # Create a new user\n",
        "    data = request.get_json()\n",
        "    return jsonify({'message': 'User created successfully'}), 201\n",
        "\n",
        "@app.route('/users/<int:user_id>', methods=['GET'])\n",
        "def get_user(user_id):\n",
        "    # Return a user by ID\n",
        "    return jsonify({'user': {'id': user_id, 'name': 'John Doe'}})\n",
        "\n",
        "@app.route('/users/<int:user_id>', methods=['PUT'])\n",
        "def update_user(user_id):\n",
        "    # Update a user by ID\n",
        "    data = request.get_json()\n",
        "    return jsonify({'message': 'User updated successfully'})\n",
        "\n",
        "@app.route('/users/<int:user_id>', methods=['DELETE'])\n",
        "def delete_user(user_id):\n",
        "    # Delete a user by ID\n",
        "    return jsonify({'message': 'User deleted successfully'})\n"
      ]
    },
    {
      "cell_type": "code",
      "execution_count": null,
      "metadata": {
        "id": "NxGWJ2UNy64z"
      },
      "outputs": [],
      "source": [
        "#4\n",
        "from flask import Flask, render_template\n",
        "\n",
        "app = Flask(__name__)\n",
        "\n",
        "@app.route('/')\n",
        "def index():\n",
        "    return render_template('index.html')\n",
        "\n",
        "if __name__ == '__main__':\n",
        "    app.run(debug=True)"
      ]
    },
    {
      "cell_type": "code",
      "execution_count": null,
      "metadata": {
        "id": "ClTAOjKRy7Ck"
      },
      "outputs": [],
      "source": [
        "#5\n",
        "from flask import Flask, url_for\n",
        "\n",
        "app = Flask(__name__)\n",
        "\n",
        "@app.route('/')\n",
        "def index():\n",
        "    return 'Index Page'\n",
        "\n",
        "with app.test_request_context():\n",
        "    print(url_for('index'))"
      ]
    },
    {
      "cell_type": "code",
      "execution_count": null,
      "metadata": {
        "id": "XqaZnIm_y7NN"
      },
      "outputs": [],
      "source": [
        "#6\n",
        "<form method=\"POST\">\n",
        "    <label for=\"name\">Name:</label>\n",
        "    <input type=\"text\" id=\"name\" name=\"name\" required>\n",
        "    <input type=\"submit\" value=\"Submit\">\n",
        "</form>"
      ]
    },
    {
      "cell_type": "code",
      "execution_count": null,
      "metadata": {
        "id": "-XqpIYvmy7YW"
      },
      "outputs": [],
      "source": [
        "#7\n",
        "from flask_wtf import FlaskForm\n",
        "from wtforms import StringField, PasswordField\n",
        "from wtforms.validators import DataRequired, Email, EqualTo\n",
        "\n",
        "class RegistrationForm(FlaskForm):\n",
        "    username = StringField('Username', validators=[DataRequired()])\n",
        "    email = StringField('Email', validators=[DataRequired(), Email()])\n",
        "    password = PasswordField('Password', validators=[DataRequired()])\n",
        "    confirm_password = PasswordField('Confirm Password', validators=[DataRequired(), EqualTo('password')])\n",
        "\n",
        "\n",
        "from flask import Flask, render_template, redirect, url_for\n",
        "from forms import RegistrationForm\n",
        "\n",
        "app = Flask(__name__)\n",
        "app.config['SECRET_KEY'] = 'secret_key_here'\n",
        "\n",
        "@app.route('/register', methods=['GET', 'POST'])\n",
        "def register():\n",
        "    form = RegistrationForm()\n",
        "    if form.validate_on_submit():\n",
        "        # Form is valid, process the data\n",
        "        return redirect(url_for('index'))\n",
        "    return render_template('register.html', form=form)"
      ]
    },
    {
      "cell_type": "code",
      "execution_count": null,
      "metadata": {
        "id": "Okpc6Q8xy7ik"
      },
      "outputs": [],
      "source": [
        "#8\n",
        "from flask import Flask, session\n",
        "\n",
        "app = Flask(__name__)\n",
        "app.config['SECRET_KEY'] = 'secret_key_here'"
      ]
    },
    {
      "cell_type": "code",
      "execution_count": null,
      "metadata": {
        "id": "429Uqxd8y7ul"
      },
      "outputs": [],
      "source": [
        "#9\n",
        "from flask import Flask, redirect, url_for\n",
        "\n",
        "app = Flask(__name__)\n",
        "\n",
        "@app.route('/')\n",
        "def index():\n",
        "    return 'Index Page'\n",
        "\n",
        "@app.route('/redirect')\n",
        "def redirect_to_index():\n",
        "    return redirect(url_for('index'))\n",
        "\n",
        "if __name__ == '__main__':\n",
        "    app.run(debug=True)\n"
      ]
    },
    {
      "cell_type": "code",
      "execution_count": null,
      "metadata": {
        "id": "nnpgWIcOy73i"
      },
      "outputs": [],
      "source": [
        "#10\n",
        "from flask import Flask, render_template\n",
        "\n",
        "app = Flask(__name__)\n",
        "\n",
        "@app.errorhandler(404)\n",
        "def page_not_found(e):\n",
        "    return render_template('404.html'), 404"
      ]
    },
    {
      "cell_type": "code",
      "source": [
        "#11\n",
        "auth = Blueprint('auth', __name__)\n",
        "\n",
        "@auth.route('/login', methods=['GET', 'POST'])\n",
        "def login():\n",
        "    form = LoginForm()\n",
        "    if form.validate_on_submit():\n",
        "        # Login logic\n",
        "        return redirect(url_for('index'))\n",
        "    return render_template('auth/login.html', form=form)\n"
      ],
      "metadata": {
        "id": "G5ZloPbGlF3l"
      },
      "execution_count": null,
      "outputs": []
    },
    {
      "cell_type": "code",
      "execution_count": null,
      "metadata": {
        "id": "j6NvGQiUy8K5"
      },
      "outputs": [],
      "source": [
        "#12\n",
        "from flask import Flask\n",
        "from datetime import datetime\n",
        "\n",
        "app = Flask(__name__)\n",
        "\n",
        "@app.template_filter('datetimeformat')\n",
        "def datetimeformat(value, format='%Y-%m-%d %H:%M:%S'):\n",
        "    return value.strftime(format)\n",
        "\n",
        "# Usage in template:\n",
        "# {{ my_datetime_variable | datetimeformat }}\n"
      ]
    },
    {
      "cell_type": "code",
      "execution_count": null,
      "metadata": {
        "id": "vXXWGOIty8WA"
      },
      "outputs": [],
      "source": [
        "#13\n",
        "from flask import Flask, redirect, url_for\n",
        "\n",
        "app = Flask(__name__)\n",
        "\n",
        "@app.route('/redirect')\n",
        "def redirect_with_query_params():\n",
        "    return redirect(url_for('target_route', param1='value1', param2='value2'))\n",
        "\n",
        "@app.route('/target')\n",
        "def target_route():\n",
        "    param1 = request.args.get('param1')\n",
        "    param2 = request.args.get('param2')\n",
        "    return f'param1: {param1}, param2: {param2}'\n",
        "\n",
        "if __name__ == '__main__':\n",
        "    app.run(debug=True)"
      ]
    },
    {
      "cell_type": "code",
      "execution_count": null,
      "metadata": {
        "id": "ZCK2HKIVy_G5"
      },
      "outputs": [],
      "source": [
        "#14\n",
        "from flask import Flask, jsonify\n",
        "\n",
        "app = Flask(__name__)\n",
        "\n",
        "@app.route('/data')\n",
        "def get_data():\n",
        "    data = {'key': 'value'}\n",
        "    return jsonify(data)\n",
        "\n",
        "if __name__ == '__main__':\n",
        "    app.run(debug=True)\n"
      ]
    },
    {
      "cell_type": "code",
      "execution_count": null,
      "metadata": {
        "id": "wvxDXHF7y_aq",
        "colab": {
          "base_uri": "https://localhost:8080/"
        },
        "outputId": "8d3d4cde-577a-4a2b-8ce8-4ec99751ef79"
      },
      "outputs": [
        {
          "output_type": "stream",
          "name": "stdout",
          "text": [
            " * Serving Flask app '__main__'\n",
            " * Debug mode: on\n"
          ]
        },
        {
          "output_type": "stream",
          "name": "stderr",
          "text": [
            "INFO:werkzeug:\u001b[31m\u001b[1mWARNING: This is a development server. Do not use it in a production deployment. Use a production WSGI server instead.\u001b[0m\n",
            " * Running on http://127.0.0.1:5000\n",
            "INFO:werkzeug:\u001b[33mPress CTRL+C to quit\u001b[0m\n",
            "INFO:werkzeug: * Restarting with stat\n"
          ]
        }
      ],
      "source": [
        "#15\n",
        "from flask import Flask\n",
        "\n",
        "app = Flask(__name__)\n",
        "\n",
        "@app.route('/user/<username>')\n",
        "def show_user_profile(username):\n",
        "    return f'User {username}'\n",
        "\n",
        "if __name__ == '__main__':\n",
        "    app.run(debug=True)\n"
      ]
    }
  ],
  "metadata": {
    "colab": {
      "provenance": []
    },
    "kernelspec": {
      "display_name": "Python 3",
      "name": "python3"
    },
    "language_info": {
      "name": "python"
    }
  },
  "nbformat": 4,
  "nbformat_minor": 0
}