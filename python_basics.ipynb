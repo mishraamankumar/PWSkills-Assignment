{
  "nbformat": 4,
  "nbformat_minor": 0,
  "metadata": {
    "colab": {
      "provenance": [],
      "toc_visible": true
    },
    "kernelspec": {
      "name": "python3",
      "display_name": "Python 3"
    },
    "language_info": {
      "name": "python"
    }
  },
  "cells": [
    {
      "cell_type": "markdown",
      "source": [
        "# PYTHON_BASICS\n",
        "\n",
        "\n"
      ],
      "metadata": {
        "id": "XAqRK_NXjcf-"
      }
    },
    {
      "cell_type": "markdown",
      "source": [
        "1. What is python and why it is popular?\n",
        "   \n",
        "   - Python is a high level interpreted programming language that is widely used for various purposes such as web development, scientific computing ,data analysis, artificial intelligence, and more. Created in late 1980s by Guido Van Rossum.\n",
        "   Python is known for its simplicity, readability, ease of use, making it an ideal language for beginners and experts alike.\n",
        "\n",
        "   It is popular because:\n",
        "\n",
        "   I.   Easy to Learn: Python has a simple syntax and is realtively easy to learn.\n",
        "\n",
        "   II.  Extensive Libraries: Vast collection of library and frameworks.\n",
        "\n",
        "   III. Cross Platform Support: Can Run on Multiple Platforms, like Windows,Linux, MacOs, etc.\n",
        "\n",
        "   IV.  Open Source: Free to use and Distribute\n",
        "\n",
        "   V.   Large Community: Large and Active Community\n",
        "\n",
        "   VI.  Rapid Development: Python's syntax and nature make it ideal for rapid prototyping and development.\n",
        "\n",
        "2. What is an interpreter in python?\n",
        "   \n",
        "   - An Interpreter is a program that directly executes the python codes, line by line, **without** **compiling it into machine code** first.\n",
        "\n",
        "3. What are Predefined Keywords in Python?\n",
        "   - Predefined keywords are reserved words that have special meanings and cannot be used as variable names or Identifiers. There are 35 Predefined Keywords in Python.\n",
        "\n",
        "   Some of them are as follows:\n",
        "   I. and\n",
        "\n",
        "   II. assert\n",
        "\n",
        "   III. awake\n",
        "\n",
        "   IV.  class\n",
        "\n",
        "   V. elif\n",
        "\n",
        "   VI. else\n",
        "\n",
        "4. Can Keywords be used as variables names?\n",
        "  - No, Keywords cannot be used as variable names.\n",
        "  using  keyword as variable name would:\n",
        "\n",
        "  a. Conflict with Syntax\n",
        "\n",
        "  b. Lose meaning\n",
        "\n",
        "  c. Raise SyntaxError\n",
        "\n",
        "5. What is Mutability in Python?\n",
        "   - Mutability refers to the ability of an object to change its state or value after its created.\n",
        "\n",
        "   Examples:\n",
        "\n",
        "   Lists,\n",
        "   \n",
        "   User Defined classes,\n",
        "\n",
        "   Sets and Dictionaries.\n",
        "\n",
        "\n",
        "6. Why are Lists Mutable, Tuple Immutable?\n",
        "   - Lists and tuples both are data structures that can store multiple values. However, they have different design goals and use cases.\n",
        "\n",
        "   Lists: Designed to be dynamic and flexible. it can be used when we need:\n",
        "\n",
        "   a. insert or delete elements\n",
        "\n",
        "   b. modify existing elements\n",
        "\n",
        "   c. grow or shrink the list\n",
        "\n",
        "   To support above opertaions lists are implemented as dynamic arrays, which means they can resize themselves as the elements are added or removed. This makes it mutable.\n",
        "\n",
        "   Tuples: Designed to be lightweight and immutable. It can be used when we need:\n",
        "\n",
        "   a. store a small or fixed size collection\n",
        "\n",
        "   b. use a tuple as a dictionary key\n",
        "\n",
        "   c. return multiple values from a function.\n",
        "\n",
        "   To support above operations, tuples are implemented as a single block of memory which makes them more memory efficient then lists.\n",
        "   \n",
        "   Since, tuples are immutable, they can be safely shared between different parts of the program without worrying about one part modfying the tuple unexpectedly.\n",
        "\n",
        "\n",
        "7. What is the difference between \"==\" and \"is\" operator in python?\n",
        "   - They are distict operator used for comparison.\n",
        "\n",
        "   == equality operator checks whether values of the two objects are equal.\n",
        "   \n",
        "   It compares the content of the objects.\n",
        "\n",
        "   example:\n",
        "\n",
        "   a = [1, 2 ,3]\n",
        "\n",
        "   b = [1, 2, 3]\n",
        "\n",
        "   print (a = = b)\n",
        "\n",
        "    Output: True\n",
        "\n",
        "   Identity operator is checks whether two objects are the same instance\n",
        "   i.e., they have the same memory location.\n",
        "\n",
        "   a = [1, 2, 3]\n",
        "\n",
        "   b = [1, 2, 3]\n",
        "\n",
        "   print (a is b)\n",
        "\n",
        "    Output: false\n",
        "\n",
        "   key differences\n",
        "\n",
        "   I. value vs identity: == checks for value equality while is checks for object identity.\n",
        "\n",
        "   II. memory location: is chceks whether two objects share same memory locations.\n",
        "\n",
        "   III. Immutability vs mutability objects: for immutability == and is will show same result but for mutable objects it can show different results.\n",
        "\n",
        "8. What are logical operators in python?\n",
        "   - logical operators are used to combine conditional statements and evaluate them as a single boolean value.\n",
        "\n",
        "   There are three logical operators in python.\n",
        "\n",
        "   a. And Operator: And operator return value as true if both the conditions are true else it will show value as false.\n",
        "\n",
        "   b. Or  Operator: Or operator return value as true if either of condition is true, if both the conditions are false it will return the value as false.\n",
        "\n",
        "   c. Not Operator: Not operator return value that is opposite of the condition, if condition is true it will return value as false and vice versa.\n",
        "\n",
        "9. What is type casting in python?\n",
        "    - Type casting is a process of coverting a value of one data type into another. This is also known as type conversion.\n",
        "    \n",
        "\n",
        "  10.  Implicit Type Casting: Python automatically converts the data type of\n",
        "       a value while performing the operations.\n",
        "\n",
        "       Explicit Type Casting: Manual coversion of data type of value using function or operators.\n",
        "       Some of the Explicit Type casting functions\n",
        "\n",
        "       int()\n",
        "\n",
        "       float()\n",
        "\n",
        "       str()\n",
        "\n",
        "       bool()"
      ],
      "metadata": {
        "id": "yWupb6dajvY-"
      }
    },
    {
      "cell_type": "code",
      "source": [
        "#Example for implicit type casting\n",
        "a = 5\n",
        "b = 8.9\n",
        "print(a+b)\n"
      ],
      "metadata": {
        "colab": {
          "base_uri": "https://localhost:8080/"
        },
        "id": "o9hwlVU8QiLg",
        "outputId": "1b946312-204f-4341-8371-5fcea0bb605b"
      },
      "execution_count": null,
      "outputs": [
        {
          "output_type": "stream",
          "name": "stdout",
          "text": [
            "13.9\n"
          ]
        }
      ]
    },
    {
      "cell_type": "code",
      "source": [
        "#Example for Explicit type casting\n",
        "a = 5\n",
        "b = 8.9\n",
        "print(int(a+b))"
      ],
      "metadata": {
        "colab": {
          "base_uri": "https://localhost:8080/"
        },
        "id": "BtPfSgmFRQ_p",
        "outputId": "79ea8b39-7602-4721-d058-4d548aa7ba20"
      },
      "execution_count": null,
      "outputs": [
        {
          "output_type": "stream",
          "name": "stdout",
          "text": [
            "13\n"
          ]
        }
      ]
    },
    {
      "cell_type": "markdown",
      "source": [
        "11. What is the purpose of conditional statement in python?\n",
        "    - The purpose of coditional statement is to execute specific block of codes based on conditions and decisions.\n",
        "\n",
        "  Types;\n",
        "\n",
        "     If Statement\n",
        "\n",
        "     If Else statement\n",
        "\n",
        "     If elif else statement.\n",
        "\n",
        "12. How does the elif statement works?\n",
        "    - elif statement is a combination of else and if statement. It is used to check another condition if the initial if condition is false.\n",
        "\n",
        "  How it works:\n",
        "\n",
        "  a. Evaluate the initial if (condition1), if the value is true then the code inside the if block is executed and program skips the rest of the elif and else block.\n",
        "\n",
        "  b. if (conditions1) is false then the python evaluates the next (condition2) in elif block, if (condition2) is true, the code inside the elif block is executed, the program skips the rest of elif and else blocks.\n",
        "\n",
        "  c. if all conditions are false then the code inside the else block is executed.\n",
        "\n",
        "12. What is the difference between for and while loop?\n",
        "    - A for loop is used to iterate sequence such as list, tuple or string, or an iterable object.It executes code block for each items in sequence.\n",
        "\n",
        "     While loop is used to execute a code block as long as a certain condition is true until the condition turns false.\n",
        "  "
      ],
      "metadata": {
        "id": "p3WQL72PAGuf"
      }
    },
    {
      "cell_type": "code",
      "source": [
        "fruits = ['apple','tomato','chickoo']\n",
        "for fruit in fruits:\n",
        "  print(fruit)\n",
        "  #This is the example of for loop"
      ],
      "metadata": {
        "colab": {
          "base_uri": "https://localhost:8080/"
        },
        "id": "w_nul-UDFona",
        "outputId": "bf7bf20a-82cf-46fb-e6e8-757bbffc806e"
      },
      "execution_count": null,
      "outputs": [
        {
          "output_type": "stream",
          "name": "stdout",
          "text": [
            "apple\n",
            "tomato\n",
            "chickoo\n"
          ]
        }
      ]
    },
    {
      "cell_type": "code",
      "source": [
        "#This is example of while loop\n",
        "i = 0\n",
        "while i < 10:\n",
        "  print (i)\n",
        "  i += 2"
      ],
      "metadata": {
        "colab": {
          "base_uri": "https://localhost:8080/"
        },
        "id": "7fOIssAjG4om",
        "outputId": "f36f0ef9-3ed9-44d7-b541-d48b99658269"
      },
      "execution_count": null,
      "outputs": [
        {
          "output_type": "stream",
          "name": "stdout",
          "text": [
            "0\n",
            "2\n",
            "4\n",
            "6\n",
            "8\n"
          ]
        }
      ]
    },
    {
      "cell_type": "markdown",
      "source": [
        "14. Describe a scenario where While loop is more suitable than For Loop?\n",
        "  - While loop is more suitable than for loop when\n",
        "\n",
        "  I. When number of iterations is unknown in advance.\n",
        "\n",
        "  II. The loop continues until certain condition is met.\n",
        "\n",
        "  III. Loop Variable changes dynamically during each iteration.\n",
        "\n",
        "  Examples:\n",
        "  a. Suppose you want to simulate a timer that count downs from certain value\n",
        "   b. Creating  a game where player has to come out of maze,the game loop should continue until the player reaches the exit or run out of health.\n",
        "\n"
      ],
      "metadata": {
        "id": "TL78kYKLH5lC"
      }
    },
    {
      "cell_type": "code",
      "source": [
        "#This the example for the 14 Question\n",
        "import time\n",
        "countdown = 10\n",
        "while countdown > 0:\n",
        "  print(f\"Time remaining: {countdown} milliseconds\")\n",
        "  time.sleep(2)\n",
        "  countdown -= 1\n",
        "\n"
      ],
      "metadata": {
        "colab": {
          "base_uri": "https://localhost:8080/"
        },
        "id": "3vMNDSL5Ig8O",
        "outputId": "183ca904-80a5-459e-e0fc-a97366b62010"
      },
      "execution_count": null,
      "outputs": [
        {
          "output_type": "stream",
          "name": "stdout",
          "text": [
            "Time remaining: 10 milliseconds\n",
            "Time remaining: 9 milliseconds\n",
            "Time remaining: 8 milliseconds\n",
            "Time remaining: 7 milliseconds\n",
            "Time remaining: 6 milliseconds\n",
            "Time remaining: 5 milliseconds\n",
            "Time remaining: 4 milliseconds\n",
            "Time remaining: 3 milliseconds\n",
            "Time remaining: 2 milliseconds\n",
            "Time remaining: 1 milliseconds\n"
          ]
        }
      ]
    },
    {
      "cell_type": "markdown",
      "source": [
        "# Practical Questions Begins Here"
      ],
      "metadata": {
        "id": "Ocb1mHJcU9LZ"
      }
    },
    {
      "cell_type": "code",
      "source": [
        "#1 write a python program to print Hello World!\n",
        "print(\"Hello World!\")\n"
      ],
      "metadata": {
        "colab": {
          "base_uri": "https://localhost:8080/"
        },
        "id": "IiO9wY18XD19",
        "outputId": "7c1eda33-eda6-4016-a4e6-3e519eb4db9a"
      },
      "execution_count": null,
      "outputs": [
        {
          "output_type": "stream",
          "name": "stdout",
          "text": [
            "Hello World!\n"
          ]
        }
      ]
    },
    {
      "cell_type": "code",
      "source": [
        "#2 write python program that displays your name and age\n",
        "name = \"Shiv\"\n",
        "age = 25\n",
        "print(\"My Name is\", name)\n",
        "print(\"My Age is\", age)\n"
      ],
      "metadata": {
        "colab": {
          "base_uri": "https://localhost:8080/"
        },
        "id": "HAVeKcfxXpAs",
        "outputId": "7208cd5e-7eeb-40ec-dd3e-1ff06d2990ba"
      },
      "execution_count": 38,
      "outputs": [
        {
          "output_type": "stream",
          "name": "stdout",
          "text": [
            "My Name is Shiv\n",
            "My Age is 25\n"
          ]
        }
      ]
    },
    {
      "cell_type": "code",
      "source": [
        "#3 Write a code to print all predefined keywords in python using keyword library\n",
        "import keyword\n",
        "keywords = keyword.kwlist\n",
        "print(\"Predefined Keywords in Python are:\")\n",
        "for keyword in keywords:\n",
        "    print(keyword)\n",
        "\n",
        "# Hurray! it is done.\n",
        "\n"
      ],
      "metadata": {
        "colab": {
          "base_uri": "https://localhost:8080/"
        },
        "id": "2q-YXUA3YvA9",
        "outputId": "9c5e04d0-d8e8-4935-e1f7-fe82de46c9b0"
      },
      "execution_count": null,
      "outputs": [
        {
          "output_type": "stream",
          "name": "stdout",
          "text": [
            "Predefined Keywords in Python are:\n",
            "False\n",
            "None\n",
            "True\n",
            "and\n",
            "as\n",
            "assert\n",
            "async\n",
            "await\n",
            "break\n",
            "class\n",
            "continue\n",
            "def\n",
            "del\n",
            "elif\n",
            "else\n",
            "except\n",
            "finally\n",
            "for\n",
            "from\n",
            "global\n",
            "if\n",
            "import\n",
            "in\n",
            "is\n",
            "lambda\n",
            "nonlocal\n",
            "not\n",
            "or\n",
            "pass\n",
            "raise\n",
            "return\n",
            "try\n",
            "while\n",
            "with\n",
            "yield\n"
          ]
        }
      ]
    },
    {
      "cell_type": "code",
      "source": [
        "#4 write a program that checks if given word is a keyword\n",
        "import keyword\n",
        "word = input(\"Enter a word: \")\n",
        "if keyword.iskeyword(word):\n",
        "    print(f\"{word} is a keyword.\")\n",
        "else:\n",
        "    print(f\"{word} is not a keyword.\")\n"
      ],
      "metadata": {
        "colab": {
          "base_uri": "https://localhost:8080/"
        },
        "id": "088ZXtKcatDQ",
        "outputId": "fd2bfb4a-ae1c-4588-a709-ee695ea3871c"
      },
      "execution_count": null,
      "outputs": [
        {
          "output_type": "stream",
          "name": "stdout",
          "text": [
            "Enter a word: else\n",
            "else is a keyword.\n"
          ]
        }
      ]
    },
    {
      "cell_type": "code",
      "source": [
        "#5 create a lists and tuple in python and demonstrate how attempting to change an element works differently for each\n",
        "#Let's try out!\n",
        "\n",
        "# list\n",
        "my_list = [1,2,3,4]\n",
        "print(\"Original list\", my_list)\n",
        "\n",
        "# modified list\n",
        "my_list[0] = 9\n",
        "print(\"Modified list\", my_list)\n",
        "\n",
        "# tuple\n",
        "my_tuple = (1,2,3,4)\n",
        "print(\"Original tuple\", my_tuple)\n",
        "\n",
        "# To modify a tuple you need covert it list,make changes then convert it back to tuple\n",
        "\n",
        "my_tuple_list = list(my_tuple)\n",
        "my_tuple_list[0] = 25\n",
        "my_tuple = tuple(my_tuple_list)\n",
        "print(\"Modified tuple\", my_tuple)\n"
      ],
      "metadata": {
        "colab": {
          "base_uri": "https://localhost:8080/"
        },
        "id": "v-2rs-A_bMDB",
        "outputId": "ba2e388c-5fba-4736-8e39-38e05aa1177e"
      },
      "execution_count": null,
      "outputs": [
        {
          "output_type": "stream",
          "name": "stdout",
          "text": [
            "Original list [1, 2, 3, 4]\n",
            "Modified list [9, 2, 3, 4]\n",
            "Original tuple (1, 2, 3, 4)\n",
            "Modified tuple (25, 2, 3, 4)\n"
          ]
        }
      ]
    },
    {
      "cell_type": "code",
      "source": [
        "#6\n",
        "def modify_arguments(mutable_arg, immutable_arg):\n",
        "  print(\"original Immutable arguments\", immutable_arg)\n",
        "  print(\"original Mutable arguments\", mutable_arg)\n",
        "  immutable_arg += \" Modified\"\n",
        "  mutable_arg.append(5)\n",
        "  print(\"Modified Immutable arguments\", immutable_arg)\n",
        "  print(\"Modified Mutable arguments\", mutable_arg)\n",
        "immutable_arg = \"Hello\"\n",
        "mutable_arg = [1,2,3,4]\n",
        "modify_arguments(mutable_arg, immutable_arg)\n",
        "print(\"Immutable arguments\", immutable_arg)\n",
        "print(\"Original Mutable arguments\", mutable_arg)\n"
      ],
      "metadata": {
        "id": "3Z-rsvL9lXn9",
        "colab": {
          "base_uri": "https://localhost:8080/"
        },
        "outputId": "8719ee96-c08b-4918-a349-5f34fc1291fc"
      },
      "execution_count": 114,
      "outputs": [
        {
          "output_type": "stream",
          "name": "stdout",
          "text": [
            "original Immutable arguments Hello\n",
            "original Mutable arguments [1, 2, 3, 4]\n",
            "Modified Immutable arguments Hello Modified\n",
            "Modified Mutable arguments [1, 2, 3, 4, 5]\n",
            "Immutable arguments Hello\n",
            "Original Mutable arguments [1, 2, 3, 4, 5]\n"
          ]
        }
      ]
    },
    {
      "cell_type": "code",
      "source": [
        "#7\n",
        "def modify_arguments(mutable_arg, immutable_arg):\n",
        "  print(\"original Immutable arguments\", immutable_arg)\n",
        "  print(\"original Mutable arguments\", mutable_arg)\n",
        "  immutable_arg += \" Modified\"\n",
        "  mutable_arg.append(5)\n",
        "  print(\"Modified Immutable arguments\", immutable_arg)\n",
        "  print(\"Modified Mutable arguments\", mutable_arg)\n",
        "immutable_arg = \"Hello\"\n",
        "mutable_arg = [1,2,3,4]\n",
        "modify_arguments(mutable_arg, immutable_arg)\n",
        "print(\"Immutable arguments\", immutable_arg)\n",
        "print(\"Original Mutable arguments\", mutable_arg)\n",
        "\n"
      ],
      "metadata": {
        "id": "rS0dzMVBl53c",
        "colab": {
          "base_uri": "https://localhost:8080/"
        },
        "outputId": "a6c30be5-4cfc-4b93-f18c-5ffc5da950f6"
      },
      "execution_count": 113,
      "outputs": [
        {
          "output_type": "stream",
          "name": "stdout",
          "text": [
            "original Immutable arguments Hello\n",
            "original Mutable arguments [1, 2, 3, 4]\n",
            "Modified Immutable arguments Hello Modified\n",
            "Modified Mutable arguments [1, 2, 3, 4, 5]\n",
            "Immutable arguments Hello\n",
            "Original Mutable arguments [1, 2, 3, 4, 5]\n"
          ]
        }
      ]
    },
    {
      "cell_type": "code",
      "source": [
        "#8\n",
        "def demostrate_logical_operators():\n",
        "   \"\"\"\n",
        "   Demonstrates the use of logical operators in Python.\n",
        "   \"\"\"\n",
        " # Define variables\n",
        "a = 3\n",
        "b = 5\n",
        "\n",
        " #Logical AND (and)\n",
        "print(\"Logical AND (and)\")\n",
        "print(\"a = \", a)\n",
        "print(\"b = \", b)\n",
        "print(\"a > 3 and b < 5:\", a > 3 and b < 5)\n",
        "\n",
        " #Logical OR (or)\n",
        "print(\"Logical OR (or)\")\n",
        "print(\"a = \", a)\n",
        "print(\"b = \", b)\n",
        "print(\"a > 3 or b < 5:\", a > 3 or b < 5)\n",
        "\n",
        " #Logical NOT (not)\n",
        "print(\"Logical NOT (not)\")\n",
        "print(\"a = \", a)\n",
        "print(\"not a > 3:\", not a > 5)\n",
        "\n",
        " #Combining Logical Operators\n",
        "print(\"\\nCombining Logical Operators\")\n",
        "print(\"a = \", a)\n",
        "print(\"b = \", b)\n",
        "print(\"a > 3 and (b < 5 or a == 5):\", a > 3 and (b < 5 or a == 5))\n",
        "\n",
        " #Call the function\n",
        "demostrate_logical_operators()\n",
        "\n"
      ],
      "metadata": {
        "id": "dCOPPqkQl97Y",
        "colab": {
          "base_uri": "https://localhost:8080/"
        },
        "outputId": "b46cdc75-8897-4610-c256-e8e48fc9a09d"
      },
      "execution_count": 116,
      "outputs": [
        {
          "output_type": "stream",
          "name": "stdout",
          "text": [
            "Logical AND (and)\n",
            "a =  3\n",
            "b =  5\n",
            "a > 3 and b < 5: False\n",
            "Logical OR (or)\n",
            "a =  3\n",
            "b =  5\n",
            "a > 3 or b < 5: False\n",
            "Logical NOT (not)\n",
            "a =  3\n",
            "not a > 3: True\n",
            "\n",
            "Combining Logical Operators\n",
            "a =  3\n",
            "b =  5\n",
            "a > 3 and (b < 5 or a == 5): False\n"
          ]
        }
      ]
    },
    {
      "cell_type": "code",
      "source": [
        "#9\n",
        "def  convert_user_input():\n",
        "    '''\n",
        "  Converts user input to different data types.\n",
        "  '''\n",
        "# Get user input\n",
        "user_input = input(\"Enter a value: \")\n",
        "try:\n",
        "  int_value = int(user_input)\n",
        "  print(f\"integer value: {int_value}\")\n",
        "except ValueError:\n",
        "    print(\"Invalid input. Please enter a valid integer.\")\n",
        "  # Convert to float\n",
        "\n",
        "try:\n",
        "    float_value = float(user_input)\n",
        "    print(f\"float value: {float_value}\")\n",
        "except ValueError:\n",
        "    print(\"Invalid input. Please enter a valid float.\")\n",
        "\n",
        "    # convert to boolean\n",
        "    bool_value = user_input.lower() in [\"true\", \"1\", \"yes\"]\n",
        "    print(f\"boolean value: {bool_value}\")\n",
        "\n",
        "    # call the function\n",
        "    convert_user_input()\n",
        "\n"
      ],
      "metadata": {
        "colab": {
          "base_uri": "https://localhost:8080/"
        },
        "id": "unnayeApmLV0",
        "outputId": "b22a17b8-44f5-4bb2-acff-eed633dbc0f1"
      },
      "execution_count": 115,
      "outputs": [
        {
          "output_type": "stream",
          "name": "stdout",
          "text": [
            "Enter a value: 908\n",
            "integer value: 908\n",
            "float value: 908.0\n"
          ]
        }
      ]
    },
    {
      "cell_type": "code",
      "source": [
        "#10\n",
        "def demonstrate_type_casting():\n",
        "   \"\"\"\n",
        "Demonstrates type casting with list elements.\n",
        "\n",
        "\"\"\"\n",
        "# Create a list of mixed data types\n",
        "mixed_list = [1, 2.5, \"hello\", True, False]\n",
        "print(\"Original list:\")\n",
        "print(mixed_list)\n",
        "\n",
        "# Convert all elements to strings\n",
        "str_list =[str(element) for element in mixed_list]\n",
        "print(\"\\nList after converting all elements to strings:\")\n",
        "print(str_list)\n",
        "\n",
        "# Convert all numbers to integers (where possible)\n",
        "int_list = []\n",
        "for element in mixed_list:\n",
        "   try:\n",
        "       int_list.append(int(element))\n",
        "   except ValueError:\n",
        "         print(f\" cannot convert {element} to an integer.\")\n",
        "print(\"\\nList after converting numbers to integers(where possible):\")\n",
        "print(int_list)\n",
        "\n",
        "# Convert all elements to float (where possible)\n",
        "float_list = []\n",
        "for element in mixed_list:\n",
        "  try:\n",
        "    float_list.append(float(element))\n",
        "  except ValueError:\n",
        "    print(f\" cannot convert {element} to a float.\")\n",
        "print(\"\\nList after converting all elements to float(where possible):\")\n",
        "print(float_list)\n",
        "\n",
        "# convert all elements to boolean\n",
        "bool_list = [bool(element) for element in mixed_list]\n",
        "print(\"\\nList after converting all elements to booleans:\")\n",
        "print(bool_list)\n",
        "\n",
        "# Call the function\n",
        "demonstrate_type_casting()"
      ],
      "metadata": {
        "colab": {
          "base_uri": "https://localhost:8080/"
        },
        "id": "c725X2BInyut",
        "outputId": "1dabd77e-7833-4da5-9ff3-371949be172c"
      },
      "execution_count": 68,
      "outputs": [
        {
          "output_type": "stream",
          "name": "stdout",
          "text": [
            "Original list:\n",
            "[1, 2.5, 'hello', True, False]\n",
            "\n",
            "List after converting all elements to strings:\n",
            "['1', '2.5', 'hello', 'True', 'False']\n",
            " cannot convert hello to an integer.\n",
            "\n",
            "List after converting numbers to integers(where possible):\n",
            "[1, 2, 1, 0]\n",
            " cannot convert hello to a float.\n",
            "\n",
            "List after converting all elements to float(where possible):\n",
            "[1.0, 2.5, 1.0, 0.0]\n",
            "\n",
            "List after converting all elements to booleans:\n",
            "[True, True, True, True, False]\n"
          ]
        }
      ]
    },
    {
      "cell_type": "code",
      "source": [
        "#11\n",
        "def check_number_sign():\n",
        "   \"\"\"\n",
        "Checks  if a number is positive, negative, or zero.\n",
        "\"\"\"\n",
        "# Get user Input\n",
        "num = float(input(\"Enter a number: \"))\n",
        "\n",
        "# Check the sign of the number\n",
        "\n",
        "if num > 0:\n",
        " print(f\"number {num} is positive\")\n",
        "elif num < 0:\n",
        " print(f\"number {num} is negative\")\n",
        "else:\n",
        " print(f\"number {num} is zero.\")\n",
        "\n",
        " # Call the Function check_number_sign()\n",
        "\n"
      ],
      "metadata": {
        "colab": {
          "base_uri": "https://localhost:8080/"
        },
        "id": "2Jdz1QFfnzxD",
        "outputId": "1ddf88d3-4564-4562-b280-88aa82fa3704"
      },
      "execution_count": 107,
      "outputs": [
        {
          "output_type": "stream",
          "name": "stdout",
          "text": [
            "Enter a number: 13\n",
            "number 13.0 is positive\n"
          ]
        }
      ]
    },
    {
      "cell_type": "code",
      "source": [
        "#12\n",
        "def print_numbers():\n",
        "   \"\"\"\n",
        "  Prints numbers from 1 to 10 using a for loop.\n",
        "  \"\"\"\n",
        "for  i in range(1, 11):\n",
        "    print(i)\n",
        "    # Call the function\n",
        "    print_numbers()\n",
        "\n"
      ],
      "metadata": {
        "colab": {
          "base_uri": "https://localhost:8080/"
        },
        "id": "exaeNQ5Wn1dC",
        "outputId": "6bf86aff-b006-4a8c-c389-80a44d18d9ea"
      },
      "execution_count": 85,
      "outputs": [
        {
          "output_type": "stream",
          "name": "stdout",
          "text": [
            "1\n",
            "2\n",
            "3\n",
            "4\n",
            "5\n",
            "6\n",
            "7\n",
            "8\n",
            "9\n",
            "10\n"
          ]
        }
      ]
    },
    {
      "cell_type": "code",
      "source": [
        "#13\n",
        "def sum_even_numbers():\n",
        "   \"\"\"\n",
        "  Calculate the sum of even numbers from 1 to 50.\n",
        "  \"\"\"\n",
        "  # iterate over number from 1 to 50\n",
        "even_sum = sum([num for num in range(1, 51) if num % 2==0])\n",
        "print(\"Sum of even numbers from 1 to 50:\", even_sum)\n",
        "\n",
        "# Call function\n",
        "sum_even_numbers()\n"
      ],
      "metadata": {
        "colab": {
          "base_uri": "https://localhost:8080/"
        },
        "id": "SzEI3cuvn3Cg",
        "outputId": "7950dd2a-7450-4f29-9558-2ce6d0366d2e"
      },
      "execution_count": 96,
      "outputs": [
        {
          "output_type": "stream",
          "name": "stdout",
          "text": [
            "Sum of even numbers from 1 to 50: 650\n"
          ]
        }
      ]
    },
    {
      "cell_type": "code",
      "source": [
        "#14\n",
        "def reverse_string():\n",
        "  input_str = input(\"Please enter a string: \")\n",
        "  reversed_str = \"\"\n",
        "  index = len(input_str) - 1\n",
        "  # Reverse String using a while loop\n",
        "  while index >= 0:\n",
        "    reversed_str += input_str[index]\n",
        "    index -= 1\n",
        "  print(\"Reversed string:\", reversed_str)\n",
        "\n",
        "# Call the function\n",
        "reverse_string()\n",
        "\n",
        "\n",
        "\n"
      ],
      "metadata": {
        "colab": {
          "base_uri": "https://localhost:8080/"
        },
        "id": "mLUAKGd-n4zz",
        "outputId": "846cee21-e3ee-475b-dbe3-3c5c6be823fb"
      },
      "execution_count": 120,
      "outputs": [
        {
          "output_type": "stream",
          "name": "stdout",
          "text": [
            "Please enter a string: aaj\n",
            "Reversed string: jaa\n"
          ]
        }
      ]
    },
    {
      "cell_type": "code",
      "source": [
        "#15\n",
        "def calculate_factorial():\n",
        " \"\"\"\n",
        " calculate the factorial of a number provided by the user using a while loop.\n",
        " \"\"\"\n",
        "# Get user input\n",
        "num = int(input(\"Please enter a non-negative: \"))\n",
        "\n",
        "# initialize variable\n",
        "factorial = 1\n",
        "i = 1\n",
        "\n",
        "# using a while loop calculate the factorial\n",
        "while i <= num:\n",
        "  factorial *= i\n",
        "  i += 1\n",
        "\n",
        "# Print the result\n",
        "print(f\"The factorial of {num} is {factorial}\")\n",
        "\n",
        "# Call the function\n",
        "calculate_factorial()\n",
        "\n"
      ],
      "metadata": {
        "colab": {
          "base_uri": "https://localhost:8080/"
        },
        "id": "26Hp3uNVn5ti",
        "outputId": "db5174b2-d9f9-4a1c-96c1-f38f0db6f0dc"
      },
      "execution_count": 104,
      "outputs": [
        {
          "output_type": "stream",
          "name": "stdout",
          "text": [
            "Please enter a non-negative: 9\n",
            "The factorial of 9 is 362880\n"
          ]
        }
      ]
    }
  ]
}